{
 "cells": [
  {
   "cell_type": "markdown",
   "metadata": {},
   "source": [
    "# Exploring the Dynamics of Financial Data Products"
   ]
  },
  {
   "cell_type": "markdown",
   "metadata": {
    "collapsed": true
   },
   "source": [
    "I decided to use Santander's [Kaggle dataset]('https://www.kaggle.com/c/santander-product-recommendation/data') to try to understand their business model and to potentially find solutions to trends, given my research on their company, their industry, and the health of the global financial system."
   ]
  },
  {
   "cell_type": "markdown",
   "metadata": {},
   "source": [
    "[Formatting Data](#Formatting Data)\n",
    "\n",
    "[Visualizing data](#Visualizing Data)\n",
    "\n",
    "[Splitting Data](#Splitting Data)\n",
    "\n",
    "[Modeling Data](#Modeling Data)\n",
    "\n",
    "[Model Validation](#Model Validation)"
   ]
  },
  {
   "cell_type": "markdown",
   "metadata": {},
   "source": [
    "## Formatting Data\n",
    "\n",
    "<a id='Formatting Data'></a>"
   ]
  },
  {
   "cell_type": "code",
   "execution_count": 2,
   "metadata": {
    "collapsed": true
   },
   "outputs": [],
   "source": [
    "import numpy as np#Math library\n",
    "import pandas as pd#Table library\n",
    "import matplotlib.pyplot as plt#Plotting library\n",
    "import pandas as pd\n",
    "import warnings\n",
    "import seaborn as sns#Plotting library\n",
    "warnings.filterwarnings('ignore')#Gets rid of popup warnings\n",
    "%matplotlib nbagg"
   ]
  },
  {
   "cell_type": "code",
   "execution_count": 3,
   "metadata": {
    "collapsed": false
   },
   "outputs": [],
   "source": [
    "#Load data \n",
    "data= pd.read_csv('train_ver2.csv')"
   ]
  },
  {
   "cell_type": "code",
   "execution_count": 114,
   "metadata": {
    "collapsed": false
   },
   "outputs": [
    {
     "data": {
      "text/html": [
       "<div>\n",
       "<table border=\"1\" class=\"dataframe\">\n",
       "  <thead>\n",
       "    <tr style=\"text-align: right;\">\n",
       "      <th></th>\n",
       "      <th>fecha_dato</th>\n",
       "      <th>ncodpers</th>\n",
       "      <th>ind_empleado</th>\n",
       "      <th>pais_residencia</th>\n",
       "      <th>sexo</th>\n",
       "      <th>age</th>\n",
       "      <th>fecha_alta</th>\n",
       "      <th>ind_nuevo</th>\n",
       "      <th>antiguedad</th>\n",
       "      <th>indrel</th>\n",
       "      <th>...</th>\n",
       "      <th>ind_hip_fin_ult1</th>\n",
       "      <th>ind_plan_fin_ult1</th>\n",
       "      <th>ind_pres_fin_ult1</th>\n",
       "      <th>ind_reca_fin_ult1</th>\n",
       "      <th>ind_tjcr_fin_ult1</th>\n",
       "      <th>ind_valo_fin_ult1</th>\n",
       "      <th>ind_viv_fin_ult1</th>\n",
       "      <th>ind_nomina_ult1</th>\n",
       "      <th>ind_nom_pens_ult1</th>\n",
       "      <th>ind_recibo_ult1</th>\n",
       "    </tr>\n",
       "  </thead>\n",
       "  <tbody>\n",
       "    <tr>\n",
       "      <th>0</th>\n",
       "      <td>2015-01-28</td>\n",
       "      <td>1375586</td>\n",
       "      <td>N</td>\n",
       "      <td>ES</td>\n",
       "      <td>H</td>\n",
       "      <td>35</td>\n",
       "      <td>2015-01-12</td>\n",
       "      <td>0.0</td>\n",
       "      <td>6</td>\n",
       "      <td>1.0</td>\n",
       "      <td>...</td>\n",
       "      <td>0</td>\n",
       "      <td>0</td>\n",
       "      <td>0</td>\n",
       "      <td>0</td>\n",
       "      <td>0</td>\n",
       "      <td>0</td>\n",
       "      <td>0</td>\n",
       "      <td>0.0</td>\n",
       "      <td>0.0</td>\n",
       "      <td>0</td>\n",
       "    </tr>\n",
       "    <tr>\n",
       "      <th>1</th>\n",
       "      <td>2015-01-28</td>\n",
       "      <td>1050611</td>\n",
       "      <td>N</td>\n",
       "      <td>ES</td>\n",
       "      <td>V</td>\n",
       "      <td>23</td>\n",
       "      <td>2012-08-10</td>\n",
       "      <td>0.0</td>\n",
       "      <td>35</td>\n",
       "      <td>1.0</td>\n",
       "      <td>...</td>\n",
       "      <td>0</td>\n",
       "      <td>0</td>\n",
       "      <td>0</td>\n",
       "      <td>0</td>\n",
       "      <td>0</td>\n",
       "      <td>0</td>\n",
       "      <td>0</td>\n",
       "      <td>0.0</td>\n",
       "      <td>0.0</td>\n",
       "      <td>0</td>\n",
       "    </tr>\n",
       "    <tr>\n",
       "      <th>2</th>\n",
       "      <td>2015-01-28</td>\n",
       "      <td>1050612</td>\n",
       "      <td>N</td>\n",
       "      <td>ES</td>\n",
       "      <td>V</td>\n",
       "      <td>23</td>\n",
       "      <td>2012-08-10</td>\n",
       "      <td>0.0</td>\n",
       "      <td>35</td>\n",
       "      <td>1.0</td>\n",
       "      <td>...</td>\n",
       "      <td>0</td>\n",
       "      <td>0</td>\n",
       "      <td>0</td>\n",
       "      <td>0</td>\n",
       "      <td>0</td>\n",
       "      <td>0</td>\n",
       "      <td>0</td>\n",
       "      <td>0.0</td>\n",
       "      <td>0.0</td>\n",
       "      <td>0</td>\n",
       "    </tr>\n",
       "    <tr>\n",
       "      <th>3</th>\n",
       "      <td>2015-01-28</td>\n",
       "      <td>1050613</td>\n",
       "      <td>N</td>\n",
       "      <td>ES</td>\n",
       "      <td>H</td>\n",
       "      <td>22</td>\n",
       "      <td>2012-08-10</td>\n",
       "      <td>0.0</td>\n",
       "      <td>35</td>\n",
       "      <td>1.0</td>\n",
       "      <td>...</td>\n",
       "      <td>0</td>\n",
       "      <td>0</td>\n",
       "      <td>0</td>\n",
       "      <td>0</td>\n",
       "      <td>0</td>\n",
       "      <td>0</td>\n",
       "      <td>0</td>\n",
       "      <td>0.0</td>\n",
       "      <td>0.0</td>\n",
       "      <td>0</td>\n",
       "    </tr>\n",
       "    <tr>\n",
       "      <th>4</th>\n",
       "      <td>2015-01-28</td>\n",
       "      <td>1050614</td>\n",
       "      <td>N</td>\n",
       "      <td>ES</td>\n",
       "      <td>V</td>\n",
       "      <td>23</td>\n",
       "      <td>2012-08-10</td>\n",
       "      <td>0.0</td>\n",
       "      <td>35</td>\n",
       "      <td>1.0</td>\n",
       "      <td>...</td>\n",
       "      <td>0</td>\n",
       "      <td>0</td>\n",
       "      <td>0</td>\n",
       "      <td>0</td>\n",
       "      <td>0</td>\n",
       "      <td>0</td>\n",
       "      <td>0</td>\n",
       "      <td>0.0</td>\n",
       "      <td>0.0</td>\n",
       "      <td>0</td>\n",
       "    </tr>\n",
       "  </tbody>\n",
       "</table>\n",
       "<p>5 rows × 48 columns</p>\n",
       "</div>"
      ],
      "text/plain": [
       "   fecha_dato  ncodpers ind_empleado pais_residencia sexo  age  fecha_alta  \\\n",
       "0  2015-01-28   1375586            N              ES    H   35  2015-01-12   \n",
       "1  2015-01-28   1050611            N              ES    V   23  2012-08-10   \n",
       "2  2015-01-28   1050612            N              ES    V   23  2012-08-10   \n",
       "3  2015-01-28   1050613            N              ES    H   22  2012-08-10   \n",
       "4  2015-01-28   1050614            N              ES    V   23  2012-08-10   \n",
       "\n",
       "   ind_nuevo antiguedad  indrel       ...        ind_hip_fin_ult1  \\\n",
       "0        0.0          6     1.0       ...                       0   \n",
       "1        0.0         35     1.0       ...                       0   \n",
       "2        0.0         35     1.0       ...                       0   \n",
       "3        0.0         35     1.0       ...                       0   \n",
       "4        0.0         35     1.0       ...                       0   \n",
       "\n",
       "  ind_plan_fin_ult1 ind_pres_fin_ult1 ind_reca_fin_ult1 ind_tjcr_fin_ult1  \\\n",
       "0                 0                 0                 0                 0   \n",
       "1                 0                 0                 0                 0   \n",
       "2                 0                 0                 0                 0   \n",
       "3                 0                 0                 0                 0   \n",
       "4                 0                 0                 0                 0   \n",
       "\n",
       "  ind_valo_fin_ult1 ind_viv_fin_ult1 ind_nomina_ult1  ind_nom_pens_ult1  \\\n",
       "0                 0                0             0.0                0.0   \n",
       "1                 0                0             0.0                0.0   \n",
       "2                 0                0             0.0                0.0   \n",
       "3                 0                0             0.0                0.0   \n",
       "4                 0                0             0.0                0.0   \n",
       "\n",
       "   ind_recibo_ult1  \n",
       "0                0  \n",
       "1                0  \n",
       "2                0  \n",
       "3                0  \n",
       "4                0  \n",
       "\n",
       "[5 rows x 48 columns]"
      ]
     },
     "execution_count": 114,
     "metadata": {},
     "output_type": "execute_result"
    }
   ],
   "source": [
    "data.head(5)"
   ]
  },
  {
   "cell_type": "code",
   "execution_count": null,
   "metadata": {
    "collapsed": false
   },
   "outputs": [],
   "source": []
  },
  {
   "cell_type": "markdown",
   "metadata": {},
   "source": [
    "Here's an key for the column names (many of which are in Spanish). Just for reference, Santander is a bank.\n",
    "\n",
    "* Column Name\tDescription\n",
    "\n",
    "* fecha_dato\tThe table is partitioned for this column\n",
    "* ncodpers\tCustomer code\n",
    "* ind_empleado\tEmployee index: A active, B ex employed, F filial, N not employee, P pasive\n",
    "* pais_residencia\tCustomer's Country residence\n",
    "* sexo\tCustomer's sex\n",
    "* age\tAge\n",
    "* fecha_alta\tThe date in which the customer became as the first holder of a contract in the bank\n",
    "* ind_nuevo\tNew customer Index. 1 if the customer registered in the last 6 months.\n",
    "* antiguedad\tCustomer seniority (in months)\n",
    "* indrel\t1 (First/Primary), 99 (Primary customer during the month but not at the end of the month)\n",
    "* ult_fec_cli_1t\tLast date as primary customer (if he isn't at the end of the month)\n",
    "* indrel_1mes\tCustomer type at the beginning of the month ,1 (First/Primary customer), 2 (co-owner ),P (Potential),3 (former primary), 4(former co-owner)\n",
    "* tiprel_1mes\tCustomer relation type at the beginning of the month, A (active), I (inactive), P (former customer),R (Potential)\n",
    "* indresi\tResidence index (S (Yes) or N (No) if the residence country is the same than the bank country)\n",
    "* indext\tForeigner index (S (Yes) or N (No) if the customer's birth country is different than the bank country)\n",
    "* conyuemp\tSpouse index. 1 if the customer is spouse of an employee\n",
    "* canal_entrada\tchannel used by the customer to join\n",
    "* indfall\tDeceased index. N/S\n",
    "* tipodom\tAddres type. 1, primary address\n",
    "* cod_prov\tProvince code (customer's address)\n",
    "* nomprov\tProvince name\n",
    "* ind_actividad_cliente\tActivity index (1, active customer; 0, inactive customer)\n",
    "* renta\tGross income of the household\n",
    "* segmento\tsegmentation: 01 - VIP, 02 - Individuals 03 - college graduated\n",
    "* ind_ahor_fin_ult1\tSaving Account\n",
    "* ind_aval_fin_ult1\tGuarantees\n",
    "* ind_cco_fin_ult1\tCurrent Accounts\n",
    "* ind_cder_fin_ult1\tDerivada Account\n",
    "* ind_cno_fin_ult1\tPayroll Account\n",
    "* ind_ctju_fin_ult1\tJunior Account\n",
    "* ind_ctma_fin_ult1\tMás particular Account\n",
    "* ind_ctop_fin_ult1\tparticular Account\n",
    "* ind_ctpp_fin_ult1\tparticular Plus Account\n",
    "* ind_deco_fin_ult1\tShort-term deposits\n",
    "* ind_deme_fin_ult1\tMedium-term deposits\n",
    "* ind_dela_fin_ult1\tLong-term deposits\n",
    "* ind_ecue_fin_ult1\te-account\n",
    "* ind_fond_fin_ult1\tFunds\n",
    "* ind_hip_fin_ult1\tMortgage\n",
    "* ind_plan_fin_ult1\tPensions\n",
    "* ind_pres_fin_ult1\tLoans\n",
    "* ind_reca_fin_ult1\tTaxes\n",
    "* ind_tjcr_fin_ult1\tCredit Card\n",
    "* ind_valo_fin_ult1\tSecurities\n",
    "* ind_viv_fin_ult1\tHome Account\n",
    "* ind_nomina_ult1\tPayroll\n",
    "* ind_nom_pens_ult1\tPensions\n",
    "* ind_recibo_ult1\tDirect Debit"
   ]
  },
  {
   "cell_type": "code",
   "execution_count": 5,
   "metadata": {
    "collapsed": false
   },
   "outputs": [
    {
     "data": {
      "text/plain": [
       "fecha_dato                object\n",
       "ncodpers                   int64\n",
       "ind_empleado              object\n",
       "pais_residencia           object\n",
       "sexo                      object\n",
       "age                       object\n",
       "fecha_alta                object\n",
       "ind_nuevo                float64\n",
       "antiguedad                object\n",
       "indrel                   float64\n",
       "ult_fec_cli_1t            object\n",
       "indrel_1mes               object\n",
       "tiprel_1mes               object\n",
       "indresi                   object\n",
       "indext                    object\n",
       "conyuemp                  object\n",
       "canal_entrada             object\n",
       "indfall                   object\n",
       "tipodom                  float64\n",
       "cod_prov                 float64\n",
       "nomprov                   object\n",
       "ind_actividad_cliente    float64\n",
       "renta                    float64\n",
       "segmento                  object\n",
       "ind_ahor_fin_ult1          int64\n",
       "ind_aval_fin_ult1          int64\n",
       "ind_cco_fin_ult1           int64\n",
       "ind_cder_fin_ult1          int64\n",
       "ind_cno_fin_ult1           int64\n",
       "ind_ctju_fin_ult1          int64\n",
       "ind_ctma_fin_ult1          int64\n",
       "ind_ctop_fin_ult1          int64\n",
       "ind_ctpp_fin_ult1          int64\n",
       "ind_deco_fin_ult1          int64\n",
       "ind_deme_fin_ult1          int64\n",
       "ind_dela_fin_ult1          int64\n",
       "ind_ecue_fin_ult1          int64\n",
       "ind_fond_fin_ult1          int64\n",
       "ind_hip_fin_ult1           int64\n",
       "ind_plan_fin_ult1          int64\n",
       "ind_pres_fin_ult1          int64\n",
       "ind_reca_fin_ult1          int64\n",
       "ind_tjcr_fin_ult1          int64\n",
       "ind_valo_fin_ult1          int64\n",
       "ind_viv_fin_ult1           int64\n",
       "ind_nomina_ult1          float64\n",
       "ind_nom_pens_ult1        float64\n",
       "ind_recibo_ult1            int64\n",
       "dtype: object"
      ]
     },
     "execution_count": 5,
     "metadata": {},
     "output_type": "execute_result"
    }
   ],
   "source": [
    "#Now let's look at the data types since we can't see every column in our table\n",
    "data.dtypes"
   ]
  },
  {
   "cell_type": "code",
   "execution_count": 128,
   "metadata": {
    "collapsed": false
   },
   "outputs": [],
   "source": [
    "#Let's convert our dates to datetime objects to see when these customers created their accounts\n",
    "data['fecha_dato']= pd.to_datetime(data['fecha_dato'])\n",
    "data['fecha_alta']= pd.to_datetime(data['fecha_alta'])"
   ]
  },
  {
   "cell_type": "code",
   "execution_count": 129,
   "metadata": {
    "collapsed": false
   },
   "outputs": [
    {
     "data": {
      "text/plain": [
       "array(['2015-01-28T00:00:00.000000000', '2015-02-28T00:00:00.000000000',\n",
       "       '2015-03-28T00:00:00.000000000', '2015-04-28T00:00:00.000000000',\n",
       "       '2015-05-28T00:00:00.000000000', '2015-06-28T00:00:00.000000000',\n",
       "       '2015-07-28T00:00:00.000000000', '2015-08-28T00:00:00.000000000',\n",
       "       '2015-09-28T00:00:00.000000000', '2015-10-28T00:00:00.000000000',\n",
       "       '2015-11-28T00:00:00.000000000', '2015-12-28T00:00:00.000000000',\n",
       "       '2016-01-28T00:00:00.000000000', '2016-02-28T00:00:00.000000000',\n",
       "       '2016-03-28T00:00:00.000000000', '2016-04-28T00:00:00.000000000',\n",
       "       '2016-05-28T00:00:00.000000000'], dtype='datetime64[ns]')"
      ]
     },
     "execution_count": 129,
     "metadata": {},
     "output_type": "execute_result"
    }
   ],
   "source": [
    "#Let's see how many original timestamps are associated with each row\n",
    "months= data['fecha_dato'].unique()\n",
    "months"
   ]
  },
  {
   "cell_type": "code",
   "execution_count": 7,
   "metadata": {
    "collapsed": false
   },
   "outputs": [
    {
     "data": {
      "text/plain": [
       "Index([u'ind_ahor_fin_ult1', u'ind_aval_fin_ult1', u'ind_cco_fin_ult1',\n",
       "       u'ind_cder_fin_ult1', u'ind_cno_fin_ult1', u'ind_ctju_fin_ult1',\n",
       "       u'ind_ctma_fin_ult1', u'ind_ctop_fin_ult1', u'ind_ctpp_fin_ult1',\n",
       "       u'ind_deco_fin_ult1', u'ind_deme_fin_ult1', u'ind_dela_fin_ult1',\n",
       "       u'ind_ecue_fin_ult1', u'ind_fond_fin_ult1', u'ind_hip_fin_ult1',\n",
       "       u'ind_plan_fin_ult1', u'ind_pres_fin_ult1', u'ind_reca_fin_ult1',\n",
       "       u'ind_tjcr_fin_ult1', u'ind_valo_fin_ult1', u'ind_viv_fin_ult1',\n",
       "       u'ind_nomina_ult1', u'ind_nom_pens_ult1', u'ind_recibo_ult1'],\n",
       "      dtype='object')"
      ]
     },
     "execution_count": 7,
     "metadata": {},
     "output_type": "execute_result"
    }
   ],
   "source": [
    "#Get the names of the columns that include sales\n",
    "data.ix[0:1,24:].columns"
   ]
  },
  {
   "cell_type": "code",
   "execution_count": 8,
   "metadata": {
    "collapsed": false
   },
   "outputs": [
    {
     "data": {
      "text/html": [
       "<div>\n",
       "<table border=\"1\" class=\"dataframe\">\n",
       "  <thead>\n",
       "    <tr style=\"text-align: right;\">\n",
       "      <th></th>\n",
       "      <th>ind_ahor_fin_ult1</th>\n",
       "      <th>ind_aval_fin_ult1</th>\n",
       "      <th>ind_cco_fin_ult1</th>\n",
       "      <th>ind_cder_fin_ult1</th>\n",
       "      <th>ind_cno_fin_ult1</th>\n",
       "      <th>ind_ctju_fin_ult1</th>\n",
       "      <th>ind_ctma_fin_ult1</th>\n",
       "      <th>ind_ctop_fin_ult1</th>\n",
       "      <th>ind_ctpp_fin_ult1</th>\n",
       "      <th>ind_deco_fin_ult1</th>\n",
       "      <th>...</th>\n",
       "      <th>ind_hip_fin_ult1</th>\n",
       "      <th>ind_plan_fin_ult1</th>\n",
       "      <th>ind_pres_fin_ult1</th>\n",
       "      <th>ind_reca_fin_ult1</th>\n",
       "      <th>ind_tjcr_fin_ult1</th>\n",
       "      <th>ind_valo_fin_ult1</th>\n",
       "      <th>ind_viv_fin_ult1</th>\n",
       "      <th>ind_nomina_ult1</th>\n",
       "      <th>ind_nom_pens_ult1</th>\n",
       "      <th>ind_recibo_ult1</th>\n",
       "    </tr>\n",
       "  </thead>\n",
       "  <tbody>\n",
       "    <tr>\n",
       "      <th>0</th>\n",
       "      <td>0</td>\n",
       "      <td>0</td>\n",
       "      <td>1</td>\n",
       "      <td>0</td>\n",
       "      <td>0</td>\n",
       "      <td>0</td>\n",
       "      <td>0</td>\n",
       "      <td>0</td>\n",
       "      <td>0</td>\n",
       "      <td>0</td>\n",
       "      <td>...</td>\n",
       "      <td>0</td>\n",
       "      <td>0</td>\n",
       "      <td>0</td>\n",
       "      <td>0</td>\n",
       "      <td>0</td>\n",
       "      <td>0</td>\n",
       "      <td>0</td>\n",
       "      <td>0.0</td>\n",
       "      <td>0.0</td>\n",
       "      <td>0</td>\n",
       "    </tr>\n",
       "    <tr>\n",
       "      <th>1</th>\n",
       "      <td>0</td>\n",
       "      <td>0</td>\n",
       "      <td>1</td>\n",
       "      <td>0</td>\n",
       "      <td>0</td>\n",
       "      <td>0</td>\n",
       "      <td>0</td>\n",
       "      <td>0</td>\n",
       "      <td>0</td>\n",
       "      <td>0</td>\n",
       "      <td>...</td>\n",
       "      <td>0</td>\n",
       "      <td>0</td>\n",
       "      <td>0</td>\n",
       "      <td>0</td>\n",
       "      <td>0</td>\n",
       "      <td>0</td>\n",
       "      <td>0</td>\n",
       "      <td>0.0</td>\n",
       "      <td>0.0</td>\n",
       "      <td>0</td>\n",
       "    </tr>\n",
       "    <tr>\n",
       "      <th>2</th>\n",
       "      <td>0</td>\n",
       "      <td>0</td>\n",
       "      <td>1</td>\n",
       "      <td>0</td>\n",
       "      <td>0</td>\n",
       "      <td>0</td>\n",
       "      <td>0</td>\n",
       "      <td>0</td>\n",
       "      <td>0</td>\n",
       "      <td>0</td>\n",
       "      <td>...</td>\n",
       "      <td>0</td>\n",
       "      <td>0</td>\n",
       "      <td>0</td>\n",
       "      <td>0</td>\n",
       "      <td>0</td>\n",
       "      <td>0</td>\n",
       "      <td>0</td>\n",
       "      <td>0.0</td>\n",
       "      <td>0.0</td>\n",
       "      <td>0</td>\n",
       "    </tr>\n",
       "    <tr>\n",
       "      <th>3</th>\n",
       "      <td>0</td>\n",
       "      <td>0</td>\n",
       "      <td>0</td>\n",
       "      <td>0</td>\n",
       "      <td>0</td>\n",
       "      <td>0</td>\n",
       "      <td>0</td>\n",
       "      <td>0</td>\n",
       "      <td>0</td>\n",
       "      <td>1</td>\n",
       "      <td>...</td>\n",
       "      <td>0</td>\n",
       "      <td>0</td>\n",
       "      <td>0</td>\n",
       "      <td>0</td>\n",
       "      <td>0</td>\n",
       "      <td>0</td>\n",
       "      <td>0</td>\n",
       "      <td>0.0</td>\n",
       "      <td>0.0</td>\n",
       "      <td>0</td>\n",
       "    </tr>\n",
       "    <tr>\n",
       "      <th>4</th>\n",
       "      <td>0</td>\n",
       "      <td>0</td>\n",
       "      <td>1</td>\n",
       "      <td>0</td>\n",
       "      <td>0</td>\n",
       "      <td>0</td>\n",
       "      <td>0</td>\n",
       "      <td>0</td>\n",
       "      <td>0</td>\n",
       "      <td>0</td>\n",
       "      <td>...</td>\n",
       "      <td>0</td>\n",
       "      <td>0</td>\n",
       "      <td>0</td>\n",
       "      <td>0</td>\n",
       "      <td>0</td>\n",
       "      <td>0</td>\n",
       "      <td>0</td>\n",
       "      <td>0.0</td>\n",
       "      <td>0.0</td>\n",
       "      <td>0</td>\n",
       "    </tr>\n",
       "  </tbody>\n",
       "</table>\n",
       "<p>5 rows × 24 columns</p>\n",
       "</div>"
      ],
      "text/plain": [
       "   ind_ahor_fin_ult1  ind_aval_fin_ult1  ind_cco_fin_ult1  ind_cder_fin_ult1  \\\n",
       "0                  0                  0                 1                  0   \n",
       "1                  0                  0                 1                  0   \n",
       "2                  0                  0                 1                  0   \n",
       "3                  0                  0                 0                  0   \n",
       "4                  0                  0                 1                  0   \n",
       "\n",
       "   ind_cno_fin_ult1  ind_ctju_fin_ult1  ind_ctma_fin_ult1  ind_ctop_fin_ult1  \\\n",
       "0                 0                  0                  0                  0   \n",
       "1                 0                  0                  0                  0   \n",
       "2                 0                  0                  0                  0   \n",
       "3                 0                  0                  0                  0   \n",
       "4                 0                  0                  0                  0   \n",
       "\n",
       "   ind_ctpp_fin_ult1  ind_deco_fin_ult1       ...         ind_hip_fin_ult1  \\\n",
       "0                  0                  0       ...                        0   \n",
       "1                  0                  0       ...                        0   \n",
       "2                  0                  0       ...                        0   \n",
       "3                  0                  1       ...                        0   \n",
       "4                  0                  0       ...                        0   \n",
       "\n",
       "   ind_plan_fin_ult1  ind_pres_fin_ult1  ind_reca_fin_ult1  ind_tjcr_fin_ult1  \\\n",
       "0                  0                  0                  0                  0   \n",
       "1                  0                  0                  0                  0   \n",
       "2                  0                  0                  0                  0   \n",
       "3                  0                  0                  0                  0   \n",
       "4                  0                  0                  0                  0   \n",
       "\n",
       "   ind_valo_fin_ult1  ind_viv_fin_ult1  ind_nomina_ult1  ind_nom_pens_ult1  \\\n",
       "0                  0                 0              0.0                0.0   \n",
       "1                  0                 0              0.0                0.0   \n",
       "2                  0                 0              0.0                0.0   \n",
       "3                  0                 0              0.0                0.0   \n",
       "4                  0                 0              0.0                0.0   \n",
       "\n",
       "   ind_recibo_ult1  \n",
       "0                0  \n",
       "1                0  \n",
       "2                0  \n",
       "3                0  \n",
       "4                0  \n",
       "\n",
       "[5 rows x 24 columns]"
      ]
     },
     "execution_count": 8,
     "metadata": {},
     "output_type": "execute_result"
    }
   ],
   "source": [
    "sales= data.ix[:,24:]\n",
    "sales.head()"
   ]
  },
  {
   "cell_type": "code",
   "execution_count": 9,
   "metadata": {
    "collapsed": false
   },
   "outputs": [],
   "source": [
    "#Get the totals \n",
    "totals= sales.sum()"
   ]
  },
  {
   "cell_type": "code",
   "execution_count": 10,
   "metadata": {
    "collapsed": false
   },
   "outputs": [
    {
     "data": {
      "text/html": [
       "<div>\n",
       "<table border=\"1\" class=\"dataframe\">\n",
       "  <thead>\n",
       "    <tr style=\"text-align: right;\">\n",
       "      <th></th>\n",
       "      <th>account</th>\n",
       "      <th>sales</th>\n",
       "    </tr>\n",
       "  </thead>\n",
       "  <tbody>\n",
       "    <tr>\n",
       "      <th>2</th>\n",
       "      <td>ind_cco_fin_ult1</td>\n",
       "      <td>8945588.0</td>\n",
       "    </tr>\n",
       "    <tr>\n",
       "      <th>7</th>\n",
       "      <td>ind_ctop_fin_ult1</td>\n",
       "      <td>1760616.0</td>\n",
       "    </tr>\n",
       "    <tr>\n",
       "      <th>23</th>\n",
       "      <td>ind_recibo_ult1</td>\n",
       "      <td>1745712.0</td>\n",
       "    </tr>\n",
       "    <tr>\n",
       "      <th>12</th>\n",
       "      <td>ind_ecue_fin_ult1</td>\n",
       "      <td>1129227.0</td>\n",
       "    </tr>\n",
       "    <tr>\n",
       "      <th>4</th>\n",
       "      <td>ind_cno_fin_ult1</td>\n",
       "      <td>1103620.0</td>\n",
       "    </tr>\n",
       "  </tbody>\n",
       "</table>\n",
       "</div>"
      ],
      "text/plain": [
       "              account      sales\n",
       "2    ind_cco_fin_ult1  8945588.0\n",
       "7   ind_ctop_fin_ult1  1760616.0\n",
       "23    ind_recibo_ult1  1745712.0\n",
       "12  ind_ecue_fin_ult1  1129227.0\n",
       "4    ind_cno_fin_ult1  1103620.0"
      ]
     },
     "execution_count": 10,
     "metadata": {},
     "output_type": "execute_result"
    }
   ],
   "source": [
    "totalDF= pd.DataFrame(totals).reset_index()\n",
    "totalDF.columns= ['account', 'sales']\n",
    "totalDF= totalDF.sort_values('sales', ascending= False)\n",
    "totalDF.head()"
   ]
  },
  {
   "cell_type": "code",
   "execution_count": 111,
   "metadata": {
    "collapsed": false
   },
   "outputs": [
    {
     "data": {
      "text/plain": [
       "<matplotlib.text.Text at 0x1265db3d0>"
      ]
     },
     "execution_count": 111,
     "metadata": {},
     "output_type": "execute_result"
    },
    {
     "data": {
      "image/png": "[encoded data removed]",
      "text/plain": [
       "<matplotlib.figure.Figure at 0x1260d1bd0>"
      ]
     },
     "metadata": {},
     "output_type": "display_data"
    }
   ],
   "source": [
    "%matplotlib inline\n",
    "plt.style.use('fivethirtyeight')\n",
    "figure, ax = plt.subplots(1,1,figsize=(12,6),  facecolor='white')\n",
    "sns.barplot(x= 'sales', y= 'account', data= totalDF, palette= 'hls')\n",
    "plt.xlabel('Number of orders')\n",
    "plt.title('Cumulative Account Orders for all Customers', fontweight= 'bold')"
   ]
  },
  {
   "cell_type": "markdown",
   "metadata": {
    "collapsed": true
   },
   "source": [
    "Excellent, so <strong>ind_cco_fin_ult1 (current accounts)</strong> is the largest contributor to the total number of orders that Santander has from their customers by a lot. From Santander's [website]('http://www.santander.co.uk/uk/current-accounts'), we see that current accounts refers to what would normally be referred to as checking accounts. This makes a lot of sense since this is the most basic type of account and one could think as the others being 'luxury' items."
   ]
  },
  {
   "cell_type": "code",
   "execution_count": 15,
   "metadata": {
    "collapsed": false
   },
   "outputs": [],
   "source": [
    "#Let's append the date column to our truncated dataset \n",
    "sales['date']= data['fecha_dato']"
   ]
  },
  {
   "cell_type": "code",
   "execution_count": 16,
   "metadata": {
    "collapsed": false
   },
   "outputs": [],
   "source": [
    "monthlyTotals= np.empty((24,1))\n",
    "\n",
    "for i in range(0,len(months)):\n",
    "    monthlyTotals = np.concatenate((monthlyTotals, sales[sales['date'] == months[i]].ix[:, sales.columns != 'date'].sum().values.reshape((24,1))), axis=1)"
   ]
  },
  {
   "cell_type": "code",
   "execution_count": 110,
   "metadata": {
    "collapsed": false
   },
   "outputs": [
    {
     "data": {
      "text/plain": [
       "<matplotlib.colorbar.Colorbar at 0x1261e2f50>"
      ]
     },
     "execution_count": 110,
     "metadata": {},
     "output_type": "execute_result"
    },
    {
     "data": {
      "image/png": "[encoded data removed]",
      "text/plain": [
       "<matplotlib.figure.Figure at 0x1260e8390>"
      ]
     },
     "metadata": {},
     "output_type": "display_data"
    }
   ],
   "source": [
    "%matplotlib inline \n",
    "plt.style.use('fivethirtyeight')\n",
    "figure, ax = plt.subplots(1,1,figsize=(8,8),  facecolor='white')\n",
    "plt.imshow(np.log(monthlyTotals), cmap= 'viridis', vmax= 11.5, vmin= 6)\n",
    "plt.xlabel('Month')\n",
    "plt.ylabel('Account ID')\n",
    "plt.title('Monthly Account Orders Over 16 Months', fontweight= 'bold')\n",
    "plt.colorbar(label='log(Order Count)')"
   ]
  },
  {
   "cell_type": "code",
   "execution_count": 131,
   "metadata": {
    "collapsed": false
   },
   "outputs": [
    {
     "data": {
      "image/png": "[encoded data removed]",
      "text/plain": [
       "<matplotlib.figure.Figure at 0x126c8e350>"
      ]
     },
     "metadata": {},
     "output_type": "display_data"
    }
   ],
   "source": [
    "#Now let's plot a few of the accounts that have some volatility\n",
    "plt.subplots(figsize=(12,4), facecolor= 'white')\n",
    "plt.plot(months, monthlyTotals[14,:])\n",
    "plt.plot(months, monthlyTotals[9,:])\n",
    "plt.plot(months, monthlyTotals[6,:])\n",
    "plt.xlabel('Month')\n",
    "plt.ylabel('Number of Orders')\n",
    "plt.title('Monthly Account Orders')\n",
    "plt.tight_layout()"
   ]
  },
  {
   "cell_type": "markdown",
   "metadata": {
    "collapsed": true
   },
   "source": [
    "The next thing I'd like to figure out is if we can segment customers based on the total number of items that they have purchased? How about the average number per month? I'd also like to know the distribution of "
   ]
  },
  {
   "cell_type": "code",
   "execution_count": 121,
   "metadata": {
    "collapsed": false
   },
   "outputs": [
    {
     "data": {
      "text/plain": [
       "0    2015-01-12\n",
       "1    2012-08-10\n",
       "2    2012-08-10\n",
       "3    2012-08-10\n",
       "4    2012-08-10\n",
       "Name: fecha_alta, dtype: object"
      ]
     },
     "execution_count": 121,
     "metadata": {},
     "output_type": "execute_result"
    }
   ],
   "source": [
    "data['fecha_alta'].head()"
   ]
  },
  {
   "cell_type": "code",
   "execution_count": 126,
   "metadata": {
    "collapsed": false
   },
   "outputs": [
    {
     "data": {
      "text/plain": [
       "pandas.tslib.Timestamp"
      ]
     },
     "execution_count": 126,
     "metadata": {},
     "output_type": "execute_result"
    }
   ],
   "source": [
    "type(data['fecha_alta'][0])"
   ]
  },
  {
   "cell_type": "code",
   "execution_count": 117,
   "metadata": {
    "collapsed": false
   },
   "outputs": [
    {
     "data": {
      "text/plain": [
       "6757"
      ]
     },
     "execution_count": 117,
     "metadata": {},
     "output_type": "execute_result"
    }
   ],
   "source": [
    "len(data['fecha_alta'].unique())"
   ]
  },
  {
   "cell_type": "code",
   "execution_count": 130,
   "metadata": {
    "collapsed": false
   },
   "outputs": [
    {
     "data": {
      "text/plain": [
       "[<matplotlib.lines.Line2D at 0x126c55b10>]"
      ]
     },
     "execution_count": 130,
     "metadata": {},
     "output_type": "execute_result"
    },
    {
     "data": {
      "image/png": "[encoded data removed]",
      "text/plain": [
       "<matplotlib.figure.Figure at 0x126b7e5d0>"
      ]
     },
     "metadata": {},
     "output_type": "display_data"
    }
   ],
   "source": [
    "plt.plot(months,monthlyTotals[9,:])"
   ]
  },
  {
   "cell_type": "code",
   "execution_count": null,
   "metadata": {
    "collapsed": true
   },
   "outputs": [],
   "source": [
    "What do we have so far? \n",
    "* Monthly data for all customers and their financial products\n",
    "* "
   ]
  },
  {
   "cell_type": "code",
   "execution_count": 78,
   "metadata": {
    "collapsed": false
   },
   "outputs": [],
   "source": [
    "sales= []\n",
    "counts= []\n",
    "for i in months:\n",
    "    counts.append(data['fecha_dato'][data['fecha_dato'] == '2015-01-28'].count())\n",
    "    "
   ]
  },
  {
   "cell_type": "code",
   "execution_count": null,
   "metadata": {
    "collapsed": false
   },
   "outputs": [],
   "source": [
    "data[data['fecha_dato']== months[0]].sum()"
   ]
  },
  {
   "cell_type": "code",
   "execution_count": 1,
   "metadata": {
    "collapsed": false
   },
   "outputs": [
    {
     "name": "stdout",
     "output_type": "stream",
     "text": [
      "hello\n"
     ]
    }
   ],
   "source": [
    "print 'hello'"
   ]
  },
  {
   "cell_type": "markdown",
   "metadata": {},
   "source": [
    "So just as a summary, the info we have about customers includes:\n",
    "* Location\n",
    "* Purchase history\n",
    "* Age\n",
    "* Sex\n",
    "* State of employment\n",
    "* State of membership\n",
    "*Gross income of household\n",
    "\n",
    "Given that, the task of this original dataset was to make future recommendations for purchases. For this project, I'll instead focus on taking this data to do a different type of analytics project. \n",
    "\n",
    "If we assume that the data landscape is composed of: a) Predictive analytics b) Business intelligence c) Data Management d) Data as a service and e) Infrastructure\n",
    "\n",
    "We can assume that we'll define our service as a diversified analytics service. Knowing what we know we have to define our 'Whole Product': what is the minimum set of products and services needed to fulfill customer's compelling reason for using our product. \n",
    "\n",
    "For our company here we know of: https://www.kaggle.com/c/santander-product-recommendation"
   ]
  },
  {
   "cell_type": "markdown",
   "metadata": {},
   "source": [
    "## Formatting Data\n",
    "\n",
    "<a id='Formatting Data'></a>"
   ]
  },
  {
   "cell_type": "code",
   "execution_count": null,
   "metadata": {
    "collapsed": true
   },
   "outputs": [],
   "source": []
  },
  {
   "cell_type": "markdown",
   "metadata": {},
   "source": [
    "## Formatting Data\n",
    "\n",
    "<a id='Formatting Data'></a>"
   ]
  },
  {
   "cell_type": "markdown",
   "metadata": {},
   "source": [
    "## Formatting Data\n",
    "\n",
    "<a id='Formatting Data'></a>"
   ]
  },
  {
   "cell_type": "markdown",
   "metadata": {},
   "source": [
    "## Formatting Data\n",
    "\n",
    "<a id='Formatting Data'></a>"
   ]
  },
  {
   "cell_type": "code",
   "execution_count": null,
   "metadata": {
    "collapsed": true
   },
   "outputs": [],
   "source": []
  },
  {
   "cell_type": "code",
   "execution_count": null,
   "metadata": {
    "collapsed": true
   },
   "outputs": [],
   "source": []
  },
  {
   "cell_type": "code",
   "execution_count": null,
   "metadata": {
    "collapsed": true
   },
   "outputs": [],
   "source": []
  }
 ],
 "metadata": {
  "anaconda-cloud": {},
  "kernelspec": {
   "display_name": "Python [conda root]",
   "language": "python",
   "name": "conda-root-py"
  },
  "language_info": {
   "codemirror_mode": {
    "name": "ipython",
    "version": 2
   },
   "file_extension": ".py",
   "mimetype": "text/x-python",
   "name": "python",
   "nbconvert_exporter": "python",
   "pygments_lexer": "ipython2",
   "version": "2.7.12"
  }
 },
 "nbformat": 4,
 "nbformat_minor": 1
}
