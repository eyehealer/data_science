{
 "cells": [
  {
   "cell_type": "markdown",
   "metadata": {},
   "source": [
    "## Time Series Forecasting in R\n",
    "\n",
    "Since it was very clumsy to perform time series forecasting in python, I decided to try the R forecasting package in R (via the R kernel in Jupyter notebooks).\n",
    "\n",
    "I saved my time glucose time grid data as a csv, so to begin I will import it into an R dataframe."
   ]
  },
  {
   "cell_type": "code",
   "execution_count": 36,
   "metadata": {
    "collapsed": false
   },
   "outputs": [],
   "source": [
    "library(forecast)"
   ]
  },
  {
   "cell_type": "code",
   "execution_count": 37,
   "metadata": {
    "collapsed": false
   },
   "outputs": [],
   "source": [
    "#Load file (not a csv technically)\n",
    "glucTimeTable <- read.table('diabetes_analysis_glucTimeGrid', \n",
    "                            header=TRUE, sep= ',')"
   ]
  },
  {
   "cell_type": "code",
   "execution_count": 38,
   "metadata": {
    "collapsed": false
   },
   "outputs": [
    {
     "data": {
      "text/html": [
       "'list'"
      ],
      "text/latex": [
       "'list'"
      ],
      "text/markdown": [
       "'list'"
      ],
      "text/plain": [
       "[1] \"list\""
      ]
     },
     "metadata": {},
     "output_type": "display_data"
    }
   ],
   "source": [
    "#Get data type\n",
    "typeof(glucTimeTable)"
   ]
  },
  {
   "cell_type": "code",
   "execution_count": 39,
   "metadata": {
    "collapsed": false
   },
   "outputs": [
    {
     "data": {
      "text/html": [
       "<table>\n",
       "<thead><tr><th scope=col>X</th><th scope=col>X1</th><th scope=col>X2</th><th scope=col>X3</th><th scope=col>X4</th><th scope=col>X5</th><th scope=col>X6</th><th scope=col>X7</th><th scope=col>X8</th><th scope=col>X9</th><th scope=col>⋯</th><th scope=col>X61</th><th scope=col>X62</th><th scope=col>X63</th><th scope=col>X64</th><th scope=col>X65</th><th scope=col>X67</th><th scope=col>X68</th><th scope=col>X69</th><th scope=col>X70</th><th scope=col>dates</th></tr></thead>\n",
       "<tbody>\n",
       "\t<tr><td>0         </td><td>NA        </td><td>NA        </td><td>NA        </td><td>NA        </td><td>NA        </td><td>NA        </td><td>NA        </td><td>NA        </td><td>NA        </td><td>⋯         </td><td>NA        </td><td>NA        </td><td>NA        </td><td>NA        </td><td>NA        </td><td>NA        </td><td>158.0     </td><td>NA        </td><td>NA        </td><td>1988-03-27</td></tr>\n",
       "\t<tr><td>1         </td><td>NA        </td><td>NA        </td><td>NA        </td><td>NA        </td><td>NA        </td><td>NA        </td><td>NA        </td><td>NA        </td><td>NA        </td><td>⋯         </td><td>NA        </td><td>NA        </td><td>NA        </td><td>NA        </td><td>NA        </td><td>NA        </td><td>135.0     </td><td>NA        </td><td>NA        </td><td>1988-03-28</td></tr>\n",
       "\t<tr><td>2         </td><td>NA        </td><td>NA        </td><td>NA        </td><td>NA        </td><td>NA        </td><td>NA        </td><td>NA        </td><td>NA        </td><td>NA        </td><td>⋯         </td><td>NA        </td><td>NA        </td><td>NA        </td><td>NA        </td><td>NA        </td><td>NA        </td><td>147.0     </td><td>NA        </td><td>NA        </td><td>1988-03-31</td></tr>\n",
       "\t<tr><td>3         </td><td>NA        </td><td>NA        </td><td>NA        </td><td>NA        </td><td>NA        </td><td>NA        </td><td>NA        </td><td>NA        </td><td>NA        </td><td>⋯         </td><td>NA        </td><td>NA        </td><td>NA        </td><td>NA        </td><td>NA        </td><td>NA        </td><td>136.0     </td><td>NA        </td><td>NA        </td><td>1988-04-02</td></tr>\n",
       "\t<tr><td>4         </td><td>NA        </td><td>NA        </td><td>NA        </td><td>NA        </td><td>NA        </td><td>NA        </td><td>NA        </td><td>NA        </td><td>NA        </td><td>⋯         </td><td>NA        </td><td>NA        </td><td>NA        </td><td>NA        </td><td>NA        </td><td>NA        </td><td>111.5     </td><td>NA        </td><td>NA        </td><td>1988-04-04</td></tr>\n",
       "\t<tr><td>5         </td><td>NA        </td><td>NA        </td><td>NA        </td><td>NA        </td><td>NA        </td><td>NA        </td><td>NA        </td><td>NA        </td><td>NA        </td><td>⋯         </td><td>NA        </td><td>NA        </td><td>NA        </td><td>NA        </td><td>NA        </td><td>NA        </td><td>140.0     </td><td>NA        </td><td>NA        </td><td>1988-04-06</td></tr>\n",
       "</tbody>\n",
       "</table>\n"
      ],
      "text/latex": [
       "\\begin{tabular}{r|llllllllllllllllllllllllllllllllllllllllllllllllllllllllllllllllllllll}\n",
       " X & X1 & X2 & X3 & X4 & X5 & X6 & X7 & X8 & X9 & ⋯ & X61 & X62 & X63 & X64 & X65 & X67 & X68 & X69 & X70 & dates\\\\\n",
       "\\hline\n",
       "\t 0          & NA         & NA         & NA         & NA         & NA         & NA         & NA         & NA         & NA         & ⋯          & NA         & NA         & NA         & NA         & NA         & NA         & 158.0      & NA         & NA         & 1988-03-27\\\\\n",
       "\t 1          & NA         & NA         & NA         & NA         & NA         & NA         & NA         & NA         & NA         & ⋯          & NA         & NA         & NA         & NA         & NA         & NA         & 135.0      & NA         & NA         & 1988-03-28\\\\\n",
       "\t 2          & NA         & NA         & NA         & NA         & NA         & NA         & NA         & NA         & NA         & ⋯          & NA         & NA         & NA         & NA         & NA         & NA         & 147.0      & NA         & NA         & 1988-03-31\\\\\n",
       "\t 3          & NA         & NA         & NA         & NA         & NA         & NA         & NA         & NA         & NA         & ⋯          & NA         & NA         & NA         & NA         & NA         & NA         & 136.0      & NA         & NA         & 1988-04-02\\\\\n",
       "\t 4          & NA         & NA         & NA         & NA         & NA         & NA         & NA         & NA         & NA         & ⋯          & NA         & NA         & NA         & NA         & NA         & NA         & 111.5      & NA         & NA         & 1988-04-04\\\\\n",
       "\t 5          & NA         & NA         & NA         & NA         & NA         & NA         & NA         & NA         & NA         & ⋯          & NA         & NA         & NA         & NA         & NA         & NA         & 140.0      & NA         & NA         & 1988-04-06\\\\\n",
       "\\end{tabular}\n"
      ],
      "text/markdown": [
       "\n",
       "X | X1 | X2 | X3 | X4 | X5 | X6 | X7 | X8 | X9 | ⋯ | X61 | X62 | X63 | X64 | X65 | X67 | X68 | X69 | X70 | dates | \n",
       "|---|---|---|---|---|---|\n",
       "| 0          | NA         | NA         | NA         | NA         | NA         | NA         | NA         | NA         | NA         | ⋯          | NA         | NA         | NA         | NA         | NA         | NA         | 158.0      | NA         | NA         | 1988-03-27 | \n",
       "| 1          | NA         | NA         | NA         | NA         | NA         | NA         | NA         | NA         | NA         | ⋯          | NA         | NA         | NA         | NA         | NA         | NA         | 135.0      | NA         | NA         | 1988-03-28 | \n",
       "| 2          | NA         | NA         | NA         | NA         | NA         | NA         | NA         | NA         | NA         | ⋯          | NA         | NA         | NA         | NA         | NA         | NA         | 147.0      | NA         | NA         | 1988-03-31 | \n",
       "| 3          | NA         | NA         | NA         | NA         | NA         | NA         | NA         | NA         | NA         | ⋯          | NA         | NA         | NA         | NA         | NA         | NA         | 136.0      | NA         | NA         | 1988-04-02 | \n",
       "| 4          | NA         | NA         | NA         | NA         | NA         | NA         | NA         | NA         | NA         | ⋯          | NA         | NA         | NA         | NA         | NA         | NA         | 111.5      | NA         | NA         | 1988-04-04 | \n",
       "| 5          | NA         | NA         | NA         | NA         | NA         | NA         | NA         | NA         | NA         | ⋯          | NA         | NA         | NA         | NA         | NA         | NA         | 140.0      | NA         | NA         | 1988-04-06 | \n",
       "\n",
       "\n"
      ],
      "text/plain": [
       "  X X1 X2 X3 X4 X5 X6 X7 X8 X9 ⋯ X61 X62 X63 X64 X65 X67 X68   X69 X70\n",
       "1 0 NA NA NA NA NA NA NA NA NA ⋯ NA  NA  NA  NA  NA  NA  158.0 NA  NA \n",
       "2 1 NA NA NA NA NA NA NA NA NA ⋯ NA  NA  NA  NA  NA  NA  135.0 NA  NA \n",
       "3 2 NA NA NA NA NA NA NA NA NA ⋯ NA  NA  NA  NA  NA  NA  147.0 NA  NA \n",
       "4 3 NA NA NA NA NA NA NA NA NA ⋯ NA  NA  NA  NA  NA  NA  136.0 NA  NA \n",
       "5 4 NA NA NA NA NA NA NA NA NA ⋯ NA  NA  NA  NA  NA  NA  111.5 NA  NA \n",
       "6 5 NA NA NA NA NA NA NA NA NA ⋯ NA  NA  NA  NA  NA  NA  140.0 NA  NA \n",
       "  dates     \n",
       "1 1988-03-27\n",
       "2 1988-03-28\n",
       "3 1988-03-31\n",
       "4 1988-04-02\n",
       "5 1988-04-04\n",
       "6 1988-04-06"
      ]
     },
     "metadata": {},
     "output_type": "display_data"
    }
   ],
   "source": [
    "#Turn list into a dataframe and get the first couple of rows\n",
    "data= data.frame(glucTimeTable)\n",
    "head(data)"
   ]
  },
  {
   "cell_type": "code",
   "execution_count": null,
   "metadata": {
    "collapsed": true
   },
   "outputs": [],
   "source": []
  }
 ],
 "metadata": {
  "anaconda-cloud": {},
  "kernelspec": {
   "display_name": "R",
   "language": "R",
   "name": "ir"
  },
  "language_info": {
   "codemirror_mode": "r",
   "file_extension": ".r",
   "mimetype": "text/x-r-source",
   "name": "R",
   "pygments_lexer": "r",
   "version": "3.3.2"
  }
 },
 "nbformat": 4,
 "nbformat_minor": 1
}
