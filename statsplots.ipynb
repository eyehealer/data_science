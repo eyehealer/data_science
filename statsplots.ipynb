{
 "cells": [
  {
   "cell_type": "markdown",
   "metadata": {},
   "source": [
    "# Statsplots is a notebook for figures"
   ]
  },
  {
   "cell_type": "code",
   "execution_count": null,
   "metadata": {
    "collapsed": true
   },
   "outputs": [],
   "source": []
  },
  {
   "cell_type": "markdown",
   "metadata": {},
   "source": [
    "[Formatting Data](#Formatting Data)\n",
    "\n",
    "[Visualizing data](#Visualizing Data)\n",
    "\n",
    "[One vs All Plot](#One vs All Plot)\n",
    "\n",
    "[Bokeh Plots](#Bokeh Plots)\n",
    "\n",
    "[Model Validation](#Model Validation)"
   ]
  },
  {
   "cell_type": "markdown",
   "metadata": {},
   "source": [
    "## Formatting Data\n",
    "\n",
    "<a id='Formatting Data'></a>"
   ]
  },
  {
   "cell_type": "code",
   "execution_count": 1,
   "metadata": {
    "collapsed": true
   },
   "outputs": [],
   "source": [
    "import numpy as np#Math library\n",
    "import pandas as pd#Table library\n",
    "import matplotlib.pyplot as plt#Plotting library\n",
    "import pandas as pd\n",
    "import warnings\n",
    "import seaborn as sns#Plotting library\n",
    "warnings.filterwarnings('ignore')#Gets rid of popup warnings\n",
    "%matplotlib nbagg"
   ]
  },
  {
   "cell_type": "code",
   "execution_count": null,
   "metadata": {
    "collapsed": true
   },
   "outputs": [],
   "source": []
  },
  {
   "cell_type": "markdown",
   "metadata": {},
   "source": [
    "## One vs All Plot\n",
    "\n",
    "<a id='One vs All Plot'></a>"
   ]
  },
  {
   "cell_type": "code",
   "execution_count": null,
   "metadata": {
    "collapsed": true
   },
   "outputs": [],
   "source": [
    "def onevsallPlot(dataf, target):\n",
    "    '''This is like the seaborn pairgrid plot (all vs all) \n",
    "    except that it only plots the features against a single\n",
    "    feature (eg. target column).'''\n",
    "    \n",
    "    #We will first remove non-numeric columns from our dataframe\n",
    "    dataNum= dataf._get_numeric_data()\n",
    "    \n",
    "    #Get remaining column names\n",
    "    feats= dataNum.ix[:, dataNum.columns != target].columns\n",
    "    \n",
    "    #Get # of features to specify # of plots to generate\n",
    "    numFeats= len(feats)\n",
    "    \n",
    "    #Using 5 columns since that's max visible in cell at 10x6 dimension\n",
    "    gridCols= 5\n",
    "    \n",
    "    #Making # of rows 1 larger than necessary so we always have space\n",
    "    #to fill remaining plots (if numFeats%gridCols != 0)\n",
    "    gridRows= (numFeats//gridCols)+1\n",
    "    \n",
    "    #Initialize figure and axes objects\n",
    "    figure, ax = plt.subplots(1,1, figsize=(10,6))\n",
    "    \n",
    "    #Iterate through each feature \n",
    "    for i in range(1, len(feats)):\n",
    "            #Specify index of subplot in gridRows x gridCols grid\n",
    "            plt.subplot(gridRows, gridCols, i)\n",
    "            \n",
    "            #Plot feature vs target\n",
    "            plt.scatter(dataNum[feats[i]], dataNum[target], \n",
    "                marker= '.', color= '#0099ff')\n",
    "            \n",
    "            #Set title\n",
    "            plt.title(feats[i] + ' vs ' + dataNum[target].name, fontsize= 10, fontweight= 'bold')\n",
    "            \n",
    "            #Set axes, limit ticks\n",
    "            plt.locator_params(axis='x',nbins=4)\n",
    "            plt.locator_params(axis='y',nbins=4)\n",
    "            plt.tight_layout()"
   ]
  },
  {
   "cell_type": "markdown",
   "metadata": {},
   "source": [
    "## Formatting Data\n",
    "\n",
    "<a id='Formatting Data'></a>"
   ]
  },
  {
   "cell_type": "code",
   "execution_count": 1,
   "metadata": {
    "collapsed": true
   },
   "outputs": [],
   "source": [
    "def cdfPlot(numArray):\n",
    "    '''Takes in an array and creates a cumulative \n",
    "    distribution function (CDF) plot.\n",
    "    '''\n",
    "    \n",
    "    sortArray= sorted(numArray)\n",
    "    step= 1.0/len(numArray)\n",
    "    scaledArray= np.arange(0,1,step)\n",
    "    \n",
    "    \n",
    "    fig, ax = plt.subplots(1,1, figsize=(5,5))\n",
    "    plt.style.use('fivethirtyeight')\n",
    "\n",
    "    plt.plot(scaledArray,sortArray)#, color= '#0099ff')   \n",
    "\n",
    "        #Customize appearance of plot\n",
    "    plt.title('Change Title', fontsize= 21, fontweight= 'bold')\n",
    "    \n",
    "    plt.xlabel('Your Label Here', fontsize=17,fontweight= 'bold')\n",
    "    plt.ylabel('Your Label Here', fontsize=17, fontweight= 'bold')\n",
    "    ax.tick_params(axis='both', which='major', labelsize=13, labelcolor= '#7c7e82')#Adjust size of x,y labels\n",
    "    ax.tick_params(axis='both', which='major', labelsize=13)"
   ]
  },
  {
   "cell_type": "markdown",
   "metadata": {},
   "source": [
    "## Bokeh Plots\n",
    "<a id='Bokeh Plots'></a>\n",
    "\n",
    "The lines below will allow you to make an interactive plot."
   ]
  },
  {
   "cell_type": "code",
   "execution_count": null,
   "metadata": {
    "collapsed": true
   },
   "outputs": [],
   "source": [
    "from bokeh.plotting import figure, output_notebook, show, ColumnDataSource\n",
    "from bokeh.models import HoverTool\n",
    "from bokeh.models import NumeralTickFormatter\n",
    "\n",
    "output_notebook()\n",
    "\n",
    "#We'll now make the source for the info on our hover\n",
    "source= ColumnDataSource(data= dict(\n",
    "        x= pcaFeats[:,0], y= pcaFeats[:,1],\n",
    "        x0= cluster0[:,0], y0= cluster0[:,1],\n",
    "        x1= cluster1[:,0], y1= cluster1[:,1],\n",
    "        x2= cluster2[:,0], y2= cluster2[:,1],\n",
    "        marker_size0= total_goals_for[indexCluster0]/1.5,\n",
    "        marker_size1= total_goals_for[indexCluster1]/1.5,\n",
    "        marker_size2= total_goals_for[indexCluster2]/1.5,\n",
    "        goals= datanumLabels['total_goals_for'].values,\n",
    "        title= team_names))\n",
    "\n",
    "hover= HoverTool(tooltips= [(\"Team\", \" @title\")])#, \n",
    "                            #('Goals Scored', ' @goals')])\n",
    "\n",
    "p = figure(plot_width=800, plot_height=600, tools=[hover, 'wheel_zoom', 'pan', 'reset'], \n",
    "           title= \"Clustering of FIFA Soccer Clubs (Scaled by Goals Scored)\", title_text_font_size='18pt')\n",
    "\n",
    "#First plot the thresholded data (to void )\n",
    "p.circle('x0', 'y0', line_color= '#f2a02e', fill_color= '#f2a02e', fill_alpha= 0.3, source=source,\n",
    "                           line_width= 4, size= 'marker_size0')\n",
    "p.circle('x1', 'y1', line_color= '#28eded', fill_color= '#28eded', fill_alpha= 0.3, source=source,\n",
    "                           line_width= 4, size='marker_size1')\n",
    "p.circle('x2', 'y2', line_color= '#54d127', fill_color= '#54d127', fill_alpha= 0.3, source=source,\n",
    "                           line_width= 4, size='marker_size2')\n",
    "\n",
    "#Main points beneath subclusters\n",
    "p.circle(pcaFeats[:,0], pcaFeats[:,1], color= 'blue', size=3)\n",
    "\n",
    "p.xaxis[0].formatter = NumeralTickFormatter(format=\"0\")\n",
    "p.yaxis[0].formatter = NumeralTickFormatter(format=\"0\")\n",
    "\n",
    "p.xaxis.axis_label = \"Principal Component 1\"\n",
    "p.yaxis.axis_label = \"Principal Compoent 2\"\n",
    "p.xaxis.axis_label_text_font_size = \"12pt\"\n",
    "p.yaxis.axis_label_text_font_size = \"12pt\"\n",
    "\n",
    "p.title_text_font_style = \"bold\"\n",
    "\n",
    "show(p)"
   ]
  },
  {
   "cell_type": "markdown",
   "metadata": {},
   "source": [
    "## Formatting Data\n",
    "\n",
    "<a id='Formatting Data'></a>"
   ]
  },
  {
   "cell_type": "code",
   "execution_count": null,
   "metadata": {
    "collapsed": true
   },
   "outputs": [],
   "source": []
  },
  {
   "cell_type": "code",
   "execution_count": null,
   "metadata": {
    "collapsed": true
   },
   "outputs": [],
   "source": []
  },
  {
   "cell_type": "code",
   "execution_count": null,
   "metadata": {
    "collapsed": true
   },
   "outputs": [],
   "source": []
  }
 ],
 "metadata": {
  "anaconda-cloud": {},
  "kernelspec": {
   "display_name": "Python [conda root]",
   "language": "python",
   "name": "conda-root-py"
  },
  "language_info": {
   "codemirror_mode": {
    "name": "ipython",
    "version": 2
   },
   "file_extension": ".py",
   "mimetype": "text/x-python",
   "name": "python",
   "nbconvert_exporter": "python",
   "pygments_lexer": "ipython2",
   "version": "2.7.12"
  }
 },
 "nbformat": 4,
 "nbformat_minor": 1
}
