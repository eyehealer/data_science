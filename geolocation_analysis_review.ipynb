{
 "cells": [
  {
   "cell_type": "markdown",
   "metadata": {},
   "source": [
    "# Data science with geolocation data\n",
    "\n",
    "<i>By Diego Ramallo</i>"
   ]
  },
  {
   "cell_type": "markdown",
   "metadata": {},
   "source": [
    "\n",
    "<img src=\"https://dl.dropboxusercontent.com/u/59776078/data_science/data_science/map-525349_1920.png\" alt=\"Drawing\" style=\"width: 350px;\"/>"
   ]
  },
  {
   "cell_type": "markdown",
   "metadata": {
    "collapsed": true
   },
   "source": [
    "Here I will play around with some geolocation data and see if I can visualize it, calculate travel times with it, and hopefully, test some ML on it.\n",
    "\n",
    "A good source for this type of data is the [SF OpenData](#https://data.sfgov.org/Transportation/NextMuni-vehicle-prediction-data/fam4-k899) repository which has a MUNI dataset. This can give me a good resource for mapping locations around San Francisco."
   ]
  },
  {
   "cell_type": "markdown",
   "metadata": {},
   "source": [
    "[Accessing Data](#Accessing Data)\n",
    "\n",
    "[Mapping Locations Using the Google Maps API](#Mapping Locations Using the Google Maps API)\n",
    "\n",
    "[Formatting Data](#Formatting Data)\n",
    "\n",
    "[Visualize Locations](#Visualize Locations)\n",
    "\n",
    "[Segmenting Riders into Clusters](#Segmenting Riders into Clusters)\n",
    "\n",
    "[Getting travel times using the GMaps Distance Matrix API](#Getting travel times using the GMaps Distance Matrix API)"
   ]
  },
  {
   "cell_type": "markdown",
   "metadata": {},
   "source": [
    "## Accessing Data\n",
    "\n",
    "<a id='Accessing Data'></a>"
   ]
  },
  {
   "cell_type": "code",
   "execution_count": 4,
   "metadata": {
    "collapsed": true
   },
   "outputs": [],
   "source": [
    "import numpy as np#Math library\n",
    "import pandas as pd#Table library\n",
    "import matplotlib.pyplot as plt#Plotting library\n",
    "import pandas as pd\n",
    "import warnings\n",
    "import seaborn as sns#Plotting library\n",
    "warnings.filterwarnings('ignore')#Gets rid of popup warnings\n",
    "%matplotlib nbagg"
   ]
  },
  {
   "cell_type": "code",
   "execution_count": 5,
   "metadata": {
    "collapsed": false
   },
   "outputs": [
    {
     "data": {
      "text/html": [
       "<div>\n",
       "<table border=\"1\" class=\"dataframe\">\n",
       "  <thead>\n",
       "    <tr style=\"text-align: right;\">\n",
       "      <th></th>\n",
       "      <th>stop_id</th>\n",
       "      <th>stop_lat</th>\n",
       "      <th>stop_lon</th>\n",
       "    </tr>\n",
       "  </thead>\n",
       "  <tbody>\n",
       "    <tr>\n",
       "      <th>354</th>\n",
       "      <td>3283</td>\n",
       "      <td>37.764579</td>\n",
       "      <td>-122.428523</td>\n",
       "    </tr>\n",
       "    <tr>\n",
       "      <th>3588</th>\n",
       "      <td>6601</td>\n",
       "      <td>37.789062</td>\n",
       "      <td>-122.410316</td>\n",
       "    </tr>\n",
       "    <tr>\n",
       "      <th>416</th>\n",
       "      <td>3346</td>\n",
       "      <td>37.762701</td>\n",
       "      <td>-122.395422</td>\n",
       "    </tr>\n",
       "    <tr>\n",
       "      <th>2694</th>\n",
       "      <td>5706</td>\n",
       "      <td>37.775710</td>\n",
       "      <td>-122.446360</td>\n",
       "    </tr>\n",
       "    <tr>\n",
       "      <th>3277</th>\n",
       "      <td>6290</td>\n",
       "      <td>37.794180</td>\n",
       "      <td>-122.400282</td>\n",
       "    </tr>\n",
       "  </tbody>\n",
       "</table>\n",
       "</div>"
      ],
      "text/plain": [
       "      stop_id   stop_lat    stop_lon\n",
       "354      3283  37.764579 -122.428523\n",
       "3588     6601  37.789062 -122.410316\n",
       "416      3346  37.762701 -122.395422\n",
       "2694     5706  37.775710 -122.446360\n",
       "3277     6290  37.794180 -122.400282"
      ]
     },
     "execution_count": 5,
     "metadata": {},
     "output_type": "execute_result"
    }
   ],
   "source": [
    "#Take subset of data to generate locations for drivers and riders using\n",
    "#the MUNI stop data file\n",
    "locData= pd.read_table('google_transit/stops.txt', delimiter= ',')\n",
    "\n",
    "riders= locData[['stop_id','stop_lat','stop_lon']].sample(n= 100, random_state= 42)\n",
    "drivers= locData[['stop_id','stop_lat','stop_lon']].sample(n= 20, random_state= 24)\n",
    "destinations= locData[['stop_id','stop_lat','stop_lon']].sample(n= 100, random_state= 35)\n",
    "riders.head(5)"
   ]
  },
  {
   "cell_type": "markdown",
   "metadata": {},
   "source": [
    "## Mapping Locations Using the Google Maps API\n",
    "\n",
    "<a id='Mapping Locations Using the Google Maps API'></a>"
   ]
  },
  {
   "cell_type": "markdown",
   "metadata": {},
   "source": [
    "It's really nice that Google allows you to use Google Maps API library to visualize objects, but it does require [generating an API key](https://developers.google.com/maps/get-started/) and enabling the specific API's that you'll use (at a minimum the JavaScript API).\n",
    "\n",
    "Finally, to enable the maps widget in a Jupyter notebook, I'll need to install the gmaps library. Here are the [installation instructions](#http://jupyter-gmaps.readthedocs.io/en/latest/)."
   ]
  },
  {
   "cell_type": "code",
   "execution_count": 6,
   "metadata": {
    "collapsed": false
   },
   "outputs": [],
   "source": [
    "#Import gmaps for embedding google maps in a jupyter notebook and summon API key\n",
    "import os\n",
    "import gmaps\n",
    "\n",
    "#The gmaps installation instructions mentioned that your API key\n",
    "#should not be shared so I instead listed it in my .bash_profile\n",
    "#document and am calling it from here\n",
    "gmaps.configure(api_key=os.environ['GOOGLE_API_KEY'])"
   ]
  },
  {
   "cell_type": "markdown",
   "metadata": {},
   "source": [
    "## Formatting Data\n",
    "\n",
    "<a id='Formatting Data'></a>\n",
    "\n",
    "In order to relay the information to gmaps, we'll need to reformat the data in our pandas dataframes to a list of lat/long tuples to be able to read the coordinates."
   ]
  },
  {
   "cell_type": "code",
   "execution_count": 7,
   "metadata": {
    "collapsed": false
   },
   "outputs": [
    {
     "data": {
      "text/plain": [
       "[(37.742646000000001, -122.487545),\n",
       " (37.805108000000004, -122.425409),\n",
       " (37.740884000000001, -122.46593799999999),\n",
       " (37.749039000000003, -122.468369),\n",
       " (37.751187000000002, -122.505366)]"
      ]
     },
     "execution_count": 7,
     "metadata": {},
     "output_type": "execute_result"
    }
   ],
   "source": [
    "#Format driver lat/long to list of tuples to use them\n",
    "#with the gmaps library\n",
    "driverData = drivers[['stop_lat','stop_lon']]\n",
    "driverData= [tuple(i) for i in driverData.values]\n",
    "driverData[0:5]\n",
    "\n",
    "#Same for riders\n",
    "riderData = riders[['stop_lat','stop_lon']]\n",
    "riderData= [tuple(i) for i in riderData.values]\n",
    "riderData[0:5]\n",
    "\n",
    "#Let's give the riders destinations\n",
    "destData = destinations[['stop_lat','stop_lon']]\n",
    "destData= [tuple(i) for i in destData.values]\n",
    "destData[0:5]"
   ]
  },
  {
   "cell_type": "markdown",
   "metadata": {},
   "source": [
    "## Visualize Locations\n",
    "\n",
    "<a id='Visualize Locations'></a>"
   ]
  },
  {
   "cell_type": "code",
   "execution_count": 8,
   "metadata": {
    "collapsed": false
   },
   "outputs": [],
   "source": [
    "#Define plot layers for drivers and riders\n",
    "#Make driver markers green and rider markers red\n",
    "driverLayer = gmaps.symbol_layer(\n",
    "    driverData, fill_color=\"green\", stroke_color=\"green\", scale=2)\n",
    "\n",
    "riderLayer= gmaps.symbol_layer(\n",
    "    riderData, fill_color=\"red\", stroke_color=\"red\", scale=2)"
   ]
  },
  {
   "cell_type": "code",
   "execution_count": 9,
   "metadata": {
    "collapsed": false
   },
   "outputs": [],
   "source": [
    "#Initialize map object to plot points \n",
    "sfMap= gmaps.Map()\n",
    "\n",
    "#Apply layers to map\n",
    "sfMap.add_layer(driverLayer)\n",
    "sfMap.add_layer(riderLayer)\n",
    "\n",
    "#Could also generate heatmap with line below\n",
    "#heatmap_layer = gmaps.Heatmap(data=driverData)\n",
    "\n",
    "#Show map\n",
    "sfMap"
   ]
  },
  {
   "cell_type": "markdown",
   "metadata": {
    "collapsed": true
   },
   "source": [
    "Sweet it worked! :) It doesn't look like it shows up on Github but it's there!"
   ]
  },
  {
   "cell_type": "markdown",
   "metadata": {},
   "source": [
    "## Segmenting Riders into Clusters\n",
    "\n",
    "<a id='Segmenting Riders into Clusters'></a>\n",
    "\n",
    "Now that I know where the riders are and where the drivers are, I'll try to segment them to optimize their locations. \n",
    "\n",
    "To begin with, I will assume that I have 20 clusters since I have 20 drivers and use K-Means as a first pass segmentation tool. This will cluster riders based on their distance to the drivers."
   ]
  },
  {
   "cell_type": "code",
   "execution_count": 10,
   "metadata": {
    "collapsed": false
   },
   "outputs": [
    {
     "data": {
      "text/plain": [
       "20"
      ]
     },
     "execution_count": 10,
     "metadata": {},
     "output_type": "execute_result"
    }
   ],
   "source": [
    "len(driverData)"
   ]
  },
  {
   "cell_type": "code",
   "execution_count": 11,
   "metadata": {
    "collapsed": false
   },
   "outputs": [
    {
     "data": {
      "text/plain": [
       "array([ 8,  1,  9,  0,  1,  3,  7, 10,  6, 13,  2, 13, 10,  6, 18,  5, 13,\n",
       "       17, 17,  0, 11,  7,  5,  2,  7,  5,  2,  1, 16, 15,  6, 13,  9,  2,\n",
       "       19,  7, 13, 11, 12, 11,  6,  7,  7,  1,  6, 13,  3,  1,  3,  8,  2,\n",
       "       15, 10, 19,  8, 15,  1,  6, 19,  2,  2,  1, 13,  3,  3,  5,  2, 18,\n",
       "       10,  6,  9, 10,  4,  6,  1,  8,  9,  1,  9, 13, 17,  6,  0,  4,  3,\n",
       "        5,  1,  4,  6,  2, 14,  9, 13,  1,  8,  0,  8, 11, 19, 10], dtype=int32)"
      ]
     },
     "execution_count": 11,
     "metadata": {},
     "output_type": "execute_result"
    }
   ],
   "source": [
    "#Import kmeans\n",
    "from sklearn.cluster import KMeans\n",
    "\n",
    "#Initialize kmeans object, making sure to specify INITIAL cluster\n",
    "#centroids as driverData (as an array)\n",
    "kmeans= KMeans(n_clusters= len(driverData), init= np.array(driverData))\n",
    "\n",
    "#Apply kmeans clustering and look at the labels\n",
    "kmeans.fit(riderData)\n",
    "kmeans.labels_"
   ]
  },
  {
   "cell_type": "markdown",
   "metadata": {
    "collapsed": true
   },
   "source": [
    "Excellent, now that we've clustered the riders, let's see how they were distributed with a histogram."
   ]
  },
  {
   "cell_type": "code",
   "execution_count": 12,
   "metadata": {
    "collapsed": false
   },
   "outputs": [
    {
     "data": {
      "application/javascript": [
       "/* Put everything inside the global mpl namespace */\n",
       "window.mpl = {};\n",
       "\n",
       "mpl.get_websocket_type = function() {\n",
       "    if (typeof(WebSocket) !== 'undefined') {\n",
       "        return WebSocket;\n",
       "    } else if (typeof(MozWebSocket) !== 'undefined') {\n",
       "        return MozWebSocket;\n",
       "    } else {\n",
       "        alert('Your browser does not have WebSocket support.' +\n",
       "              'Please try Chrome, Safari or Firefox ≥ 6. ' +\n",
       "              'Firefox 4 and 5 are also supported but you ' +\n",
       "              'have to enable WebSockets in about:config.');\n",
       "    };\n",
       "}\n",
       "\n",
       "mpl.figure = function(figure_id, websocket, ondownload, parent_element) {\n",
       "    this.id = figure_id;\n",
       "\n",
       "    this.ws = websocket;\n",
       "\n",
       "    this.supports_binary = (this.ws.binaryType != undefined);\n",
       "\n",
       "    if (!this.supports_binary) {\n",
       "        var warnings = document.getElementById(\"mpl-warnings\");\n",
       "        if (warnings) {\n",
       "            warnings.style.display = 'block';\n",
       "            warnings.textContent = (\n",
       "                \"This browser does not support binary websocket messages. \" +\n",
       "                    \"Performance may be slow.\");\n",
       "        }\n",
       "    }\n",
       "\n",
       "    this.imageObj = new Image();\n",
       "\n",
       "    this.context = undefined;\n",
       "    this.message = undefined;\n",
       "    this.canvas = undefined;\n",
       "    this.rubberband_canvas = undefined;\n",
       "    this.rubberband_context = undefined;\n",
       "    this.format_dropdown = undefined;\n",
       "\n",
       "    this.image_mode = 'full';\n",
       "\n",
       "    this.root = $('<div/>');\n",
       "    this._root_extra_style(this.root)\n",
       "    this.root.attr('style', 'display: inline-block');\n",
       "\n",
       "    $(parent_element).append(this.root);\n",
       "\n",
       "    this._init_header(this);\n",
       "    this._init_canvas(this);\n",
       "    this._init_toolbar(this);\n",
       "\n",
       "    var fig = this;\n",
       "\n",
       "    this.waiting = false;\n",
       "\n",
       "    this.ws.onopen =  function () {\n",
       "            fig.send_message(\"supports_binary\", {value: fig.supports_binary});\n",
       "            fig.send_message(\"send_image_mode\", {});\n",
       "            fig.send_message(\"refresh\", {});\n",
       "        }\n",
       "\n",
       "    this.imageObj.onload = function() {\n",
       "            if (fig.image_mode == 'full') {\n",
       "                // Full images could contain transparency (where diff images\n",
       "                // almost always do), so we need to clear the canvas so that\n",
       "                // there is no ghosting.\n",
       "                fig.context.clearRect(0, 0, fig.canvas.width, fig.canvas.height);\n",
       "            }\n",
       "            fig.context.drawImage(fig.imageObj, 0, 0);\n",
       "        };\n",
       "\n",
       "    this.imageObj.onunload = function() {\n",
       "        this.ws.close();\n",
       "    }\n",
       "\n",
       "    this.ws.onmessage = this._make_on_message_function(this);\n",
       "\n",
       "    this.ondownload = ondownload;\n",
       "}\n",
       "\n",
       "mpl.figure.prototype._init_header = function() {\n",
       "    var titlebar = $(\n",
       "        '<div class=\"ui-dialog-titlebar ui-widget-header ui-corner-all ' +\n",
       "        'ui-helper-clearfix\"/>');\n",
       "    var titletext = $(\n",
       "        '<div class=\"ui-dialog-title\" style=\"width: 100%; ' +\n",
       "        'text-align: center; padding: 3px;\"/>');\n",
       "    titlebar.append(titletext)\n",
       "    this.root.append(titlebar);\n",
       "    this.header = titletext[0];\n",
       "}\n",
       "\n",
       "\n",
       "\n",
       "mpl.figure.prototype._canvas_extra_style = function(canvas_div) {\n",
       "\n",
       "}\n",
       "\n",
       "\n",
       "mpl.figure.prototype._root_extra_style = function(canvas_div) {\n",
       "\n",
       "}\n",
       "\n",
       "mpl.figure.prototype._init_canvas = function() {\n",
       "    var fig = this;\n",
       "\n",
       "    var canvas_div = $('<div/>');\n",
       "\n",
       "    canvas_div.attr('style', 'position: relative; clear: both; outline: 0');\n",
       "\n",
       "    function canvas_keyboard_event(event) {\n",
       "        return fig.key_event(event, event['data']);\n",
       "    }\n",
       "\n",
       "    canvas_div.keydown('key_press', canvas_keyboard_event);\n",
       "    canvas_div.keyup('key_release', canvas_keyboard_event);\n",
       "    this.canvas_div = canvas_div\n",
       "    this._canvas_extra_style(canvas_div)\n",
       "    this.root.append(canvas_div);\n",
       "\n",
       "    var canvas = $('<canvas/>');\n",
       "    canvas.addClass('mpl-canvas');\n",
       "    canvas.attr('style', \"left: 0; top: 0; z-index: 0; outline: 0\")\n",
       "\n",
       "    this.canvas = canvas[0];\n",
       "    this.context = canvas[0].getContext(\"2d\");\n",
       "\n",
       "    var rubberband = $('<canvas/>');\n",
       "    rubberband.attr('style', \"position: absolute; left: 0; top: 0; z-index: 1;\")\n",
       "\n",
       "    var pass_mouse_events = true;\n",
       "\n",
       "    canvas_div.resizable({\n",
       "        start: function(event, ui) {\n",
       "            pass_mouse_events = false;\n",
       "        },\n",
       "        resize: function(event, ui) {\n",
       "            fig.request_resize(ui.size.width, ui.size.height);\n",
       "        },\n",
       "        stop: function(event, ui) {\n",
       "            pass_mouse_events = true;\n",
       "            fig.request_resize(ui.size.width, ui.size.height);\n",
       "        },\n",
       "    });\n",
       "\n",
       "    function mouse_event_fn(event) {\n",
       "        if (pass_mouse_events)\n",
       "            return fig.mouse_event(event, event['data']);\n",
       "    }\n",
       "\n",
       "    rubberband.mousedown('button_press', mouse_event_fn);\n",
       "    rubberband.mouseup('button_release', mouse_event_fn);\n",
       "    // Throttle sequential mouse events to 1 every 20ms.\n",
       "    rubberband.mousemove('motion_notify', mouse_event_fn);\n",
       "\n",
       "    rubberband.mouseenter('figure_enter', mouse_event_fn);\n",
       "    rubberband.mouseleave('figure_leave', mouse_event_fn);\n",
       "\n",
       "    canvas_div.on(\"wheel\", function (event) {\n",
       "        event = event.originalEvent;\n",
       "        event['data'] = 'scroll'\n",
       "        if (event.deltaY < 0) {\n",
       "            event.step = 1;\n",
       "        } else {\n",
       "            event.step = -1;\n",
       "        }\n",
       "        mouse_event_fn(event);\n",
       "    });\n",
       "\n",
       "    canvas_div.append(canvas);\n",
       "    canvas_div.append(rubberband);\n",
       "\n",
       "    this.rubberband = rubberband;\n",
       "    this.rubberband_canvas = rubberband[0];\n",
       "    this.rubberband_context = rubberband[0].getContext(\"2d\");\n",
       "    this.rubberband_context.strokeStyle = \"#000000\";\n",
       "\n",
       "    this._resize_canvas = function(width, height) {\n",
       "        // Keep the size of the canvas, canvas container, and rubber band\n",
       "        // canvas in synch.\n",
       "        canvas_div.css('width', width)\n",
       "        canvas_div.css('height', height)\n",
       "\n",
       "        canvas.attr('width', width);\n",
       "        canvas.attr('height', height);\n",
       "\n",
       "        rubberband.attr('width', width);\n",
       "        rubberband.attr('height', height);\n",
       "    }\n",
       "\n",
       "    // Set the figure to an initial 600x600px, this will subsequently be updated\n",
       "    // upon first draw.\n",
       "    this._resize_canvas(600, 600);\n",
       "\n",
       "    // Disable right mouse context menu.\n",
       "    $(this.rubberband_canvas).bind(\"contextmenu\",function(e){\n",
       "        return false;\n",
       "    });\n",
       "\n",
       "    function set_focus () {\n",
       "        canvas.focus();\n",
       "        canvas_div.focus();\n",
       "    }\n",
       "\n",
       "    window.setTimeout(set_focus, 100);\n",
       "}\n",
       "\n",
       "mpl.figure.prototype._init_toolbar = function() {\n",
       "    var fig = this;\n",
       "\n",
       "    var nav_element = $('<div/>')\n",
       "    nav_element.attr('style', 'width: 100%');\n",
       "    this.root.append(nav_element);\n",
       "\n",
       "    // Define a callback function for later on.\n",
       "    function toolbar_event(event) {\n",
       "        return fig.toolbar_button_onclick(event['data']);\n",
       "    }\n",
       "    function toolbar_mouse_event(event) {\n",
       "        return fig.toolbar_button_onmouseover(event['data']);\n",
       "    }\n",
       "\n",
       "    for(var toolbar_ind in mpl.toolbar_items) {\n",
       "        var name = mpl.toolbar_items[toolbar_ind][0];\n",
       "        var tooltip = mpl.toolbar_items[toolbar_ind][1];\n",
       "        var image = mpl.toolbar_items[toolbar_ind][2];\n",
       "        var method_name = mpl.toolbar_items[toolbar_ind][3];\n",
       "\n",
       "        if (!name) {\n",
       "            // put a spacer in here.\n",
       "            continue;\n",
       "        }\n",
       "        var button = $('<button/>');\n",
       "        button.addClass('ui-button ui-widget ui-state-default ui-corner-all ' +\n",
       "                        'ui-button-icon-only');\n",
       "        button.attr('role', 'button');\n",
       "        button.attr('aria-disabled', 'false');\n",
       "        button.click(method_name, toolbar_event);\n",
       "        button.mouseover(tooltip, toolbar_mouse_event);\n",
       "\n",
       "        var icon_img = $('<span/>');\n",
       "        icon_img.addClass('ui-button-icon-primary ui-icon');\n",
       "        icon_img.addClass(image);\n",
       "        icon_img.addClass('ui-corner-all');\n",
       "\n",
       "        var tooltip_span = $('<span/>');\n",
       "        tooltip_span.addClass('ui-button-text');\n",
       "        tooltip_span.html(tooltip);\n",
       "\n",
       "        button.append(icon_img);\n",
       "        button.append(tooltip_span);\n",
       "\n",
       "        nav_element.append(button);\n",
       "    }\n",
       "\n",
       "    var fmt_picker_span = $('<span/>');\n",
       "\n",
       "    var fmt_picker = $('<select/>');\n",
       "    fmt_picker.addClass('mpl-toolbar-option ui-widget ui-widget-content');\n",
       "    fmt_picker_span.append(fmt_picker);\n",
       "    nav_element.append(fmt_picker_span);\n",
       "    this.format_dropdown = fmt_picker[0];\n",
       "\n",
       "    for (var ind in mpl.extensions) {\n",
       "        var fmt = mpl.extensions[ind];\n",
       "        var option = $(\n",
       "            '<option/>', {selected: fmt === mpl.default_extension}).html(fmt);\n",
       "        fmt_picker.append(option)\n",
       "    }\n",
       "\n",
       "    // Add hover states to the ui-buttons\n",
       "    $( \".ui-button\" ).hover(\n",
       "        function() { $(this).addClass(\"ui-state-hover\");},\n",
       "        function() { $(this).removeClass(\"ui-state-hover\");}\n",
       "    );\n",
       "\n",
       "    var status_bar = $('<span class=\"mpl-message\"/>');\n",
       "    nav_element.append(status_bar);\n",
       "    this.message = status_bar[0];\n",
       "}\n",
       "\n",
       "mpl.figure.prototype.request_resize = function(x_pixels, y_pixels) {\n",
       "    // Request matplotlib to resize the figure. Matplotlib will then trigger a resize in the client,\n",
       "    // which will in turn request a refresh of the image.\n",
       "    this.send_message('resize', {'width': x_pixels, 'height': y_pixels});\n",
       "}\n",
       "\n",
       "mpl.figure.prototype.send_message = function(type, properties) {\n",
       "    properties['type'] = type;\n",
       "    properties['figure_id'] = this.id;\n",
       "    this.ws.send(JSON.stringify(properties));\n",
       "}\n",
       "\n",
       "mpl.figure.prototype.send_draw_message = function() {\n",
       "    if (!this.waiting) {\n",
       "        this.waiting = true;\n",
       "        this.ws.send(JSON.stringify({type: \"draw\", figure_id: this.id}));\n",
       "    }\n",
       "}\n",
       "\n",
       "\n",
       "mpl.figure.prototype.handle_save = function(fig, msg) {\n",
       "    var format_dropdown = fig.format_dropdown;\n",
       "    var format = format_dropdown.options[format_dropdown.selectedIndex].value;\n",
       "    fig.ondownload(fig, format);\n",
       "}\n",
       "\n",
       "\n",
       "mpl.figure.prototype.handle_resize = function(fig, msg) {\n",
       "    var size = msg['size'];\n",
       "    if (size[0] != fig.canvas.width || size[1] != fig.canvas.height) {\n",
       "        fig._resize_canvas(size[0], size[1]);\n",
       "        fig.send_message(\"refresh\", {});\n",
       "    };\n",
       "}\n",
       "\n",
       "mpl.figure.prototype.handle_rubberband = function(fig, msg) {\n",
       "    var x0 = msg['x0'];\n",
       "    var y0 = fig.canvas.height - msg['y0'];\n",
       "    var x1 = msg['x1'];\n",
       "    var y1 = fig.canvas.height - msg['y1'];\n",
       "    x0 = Math.floor(x0) + 0.5;\n",
       "    y0 = Math.floor(y0) + 0.5;\n",
       "    x1 = Math.floor(x1) + 0.5;\n",
       "    y1 = Math.floor(y1) + 0.5;\n",
       "    var min_x = Math.min(x0, x1);\n",
       "    var min_y = Math.min(y0, y1);\n",
       "    var width = Math.abs(x1 - x0);\n",
       "    var height = Math.abs(y1 - y0);\n",
       "\n",
       "    fig.rubberband_context.clearRect(\n",
       "        0, 0, fig.canvas.width, fig.canvas.height);\n",
       "\n",
       "    fig.rubberband_context.strokeRect(min_x, min_y, width, height);\n",
       "}\n",
       "\n",
       "mpl.figure.prototype.handle_figure_label = function(fig, msg) {\n",
       "    // Updates the figure title.\n",
       "    fig.header.textContent = msg['label'];\n",
       "}\n",
       "\n",
       "mpl.figure.prototype.handle_cursor = function(fig, msg) {\n",
       "    var cursor = msg['cursor'];\n",
       "    switch(cursor)\n",
       "    {\n",
       "    case 0:\n",
       "        cursor = 'pointer';\n",
       "        break;\n",
       "    case 1:\n",
       "        cursor = 'default';\n",
       "        break;\n",
       "    case 2:\n",
       "        cursor = 'crosshair';\n",
       "        break;\n",
       "    case 3:\n",
       "        cursor = 'move';\n",
       "        break;\n",
       "    }\n",
       "    fig.rubberband_canvas.style.cursor = cursor;\n",
       "}\n",
       "\n",
       "mpl.figure.prototype.handle_message = function(fig, msg) {\n",
       "    fig.message.textContent = msg['message'];\n",
       "}\n",
       "\n",
       "mpl.figure.prototype.handle_draw = function(fig, msg) {\n",
       "    // Request the server to send over a new figure.\n",
       "    fig.send_draw_message();\n",
       "}\n",
       "\n",
       "mpl.figure.prototype.handle_image_mode = function(fig, msg) {\n",
       "    fig.image_mode = msg['mode'];\n",
       "}\n",
       "\n",
       "mpl.figure.prototype.updated_canvas_event = function() {\n",
       "    // Called whenever the canvas gets updated.\n",
       "    this.send_message(\"ack\", {});\n",
       "}\n",
       "\n",
       "// A function to construct a web socket function for onmessage handling.\n",
       "// Called in the figure constructor.\n",
       "mpl.figure.prototype._make_on_message_function = function(fig) {\n",
       "    return function socket_on_message(evt) {\n",
       "        if (evt.data instanceof Blob) {\n",
       "            /* FIXME: We get \"Resource interpreted as Image but\n",
       "             * transferred with MIME type text/plain:\" errors on\n",
       "             * Chrome.  But how to set the MIME type?  It doesn't seem\n",
       "             * to be part of the websocket stream */\n",
       "            evt.data.type = \"image/png\";\n",
       "\n",
       "            /* Free the memory for the previous frames */\n",
       "            if (fig.imageObj.src) {\n",
       "                (window.URL || window.webkitURL).revokeObjectURL(\n",
       "                    fig.imageObj.src);\n",
       "            }\n",
       "\n",
       "            fig.imageObj.src = (window.URL || window.webkitURL).createObjectURL(\n",
       "                evt.data);\n",
       "            fig.updated_canvas_event();\n",
       "            fig.waiting = false;\n",
       "            return;\n",
       "        }\n",
       "        else if (typeof evt.data === 'string' && evt.data.slice(0, 21) == \"data:image/png;base64\") {\n",
       "            fig.imageObj.src = evt.data;\n",
       "            fig.updated_canvas_event();\n",
       "            fig.waiting = false;\n",
       "            return;\n",
       "        }\n",
       "\n",
       "        var msg = JSON.parse(evt.data);\n",
       "        var msg_type = msg['type'];\n",
       "\n",
       "        // Call the  \"handle_{type}\" callback, which takes\n",
       "        // the figure and JSON message as its only arguments.\n",
       "        try {\n",
       "            var callback = fig[\"handle_\" + msg_type];\n",
       "        } catch (e) {\n",
       "            console.log(\"No handler for the '\" + msg_type + \"' message type: \", msg);\n",
       "            return;\n",
       "        }\n",
       "\n",
       "        if (callback) {\n",
       "            try {\n",
       "                // console.log(\"Handling '\" + msg_type + \"' message: \", msg);\n",
       "                callback(fig, msg);\n",
       "            } catch (e) {\n",
       "                console.log(\"Exception inside the 'handler_\" + msg_type + \"' callback:\", e, e.stack, msg);\n",
       "            }\n",
       "        }\n",
       "    };\n",
       "}\n",
       "\n",
       "// from http://stackoverflow.com/questions/1114465/getting-mouse-location-in-canvas\n",
       "mpl.findpos = function(e) {\n",
       "    //this section is from http://www.quirksmode.org/js/events_properties.html\n",
       "    var targ;\n",
       "    if (!e)\n",
       "        e = window.event;\n",
       "    if (e.target)\n",
       "        targ = e.target;\n",
       "    else if (e.srcElement)\n",
       "        targ = e.srcElement;\n",
       "    if (targ.nodeType == 3) // defeat Safari bug\n",
       "        targ = targ.parentNode;\n",
       "\n",
       "    // jQuery normalizes the pageX and pageY\n",
       "    // pageX,Y are the mouse positions relative to the document\n",
       "    // offset() returns the position of the element relative to the document\n",
       "    var x = e.pageX - $(targ).offset().left;\n",
       "    var y = e.pageY - $(targ).offset().top;\n",
       "\n",
       "    return {\"x\": x, \"y\": y};\n",
       "};\n",
       "\n",
       "/*\n",
       " * return a copy of an object with only non-object keys\n",
       " * we need this to avoid circular references\n",
       " * http://stackoverflow.com/a/24161582/3208463\n",
       " */\n",
       "function simpleKeys (original) {\n",
       "  return Object.keys(original).reduce(function (obj, key) {\n",
       "    if (typeof original[key] !== 'object')\n",
       "        obj[key] = original[key]\n",
       "    return obj;\n",
       "  }, {});\n",
       "}\n",
       "\n",
       "mpl.figure.prototype.mouse_event = function(event, name) {\n",
       "    var canvas_pos = mpl.findpos(event)\n",
       "\n",
       "    if (name === 'button_press')\n",
       "    {\n",
       "        this.canvas.focus();\n",
       "        this.canvas_div.focus();\n",
       "    }\n",
       "\n",
       "    var x = canvas_pos.x;\n",
       "    var y = canvas_pos.y;\n",
       "\n",
       "    this.send_message(name, {x: x, y: y, button: event.button,\n",
       "                             step: event.step,\n",
       "                             guiEvent: simpleKeys(event)});\n",
       "\n",
       "    /* This prevents the web browser from automatically changing to\n",
       "     * the text insertion cursor when the button is pressed.  We want\n",
       "     * to control all of the cursor setting manually through the\n",
       "     * 'cursor' event from matplotlib */\n",
       "    event.preventDefault();\n",
       "    return false;\n",
       "}\n",
       "\n",
       "mpl.figure.prototype._key_event_extra = function(event, name) {\n",
       "    // Handle any extra behaviour associated with a key event\n",
       "}\n",
       "\n",
       "mpl.figure.prototype.key_event = function(event, name) {\n",
       "\n",
       "    // Prevent repeat events\n",
       "    if (name == 'key_press')\n",
       "    {\n",
       "        if (event.which === this._key)\n",
       "            return;\n",
       "        else\n",
       "            this._key = event.which;\n",
       "    }\n",
       "    if (name == 'key_release')\n",
       "        this._key = null;\n",
       "\n",
       "    var value = '';\n",
       "    if (event.ctrlKey && event.which != 17)\n",
       "        value += \"ctrl+\";\n",
       "    if (event.altKey && event.which != 18)\n",
       "        value += \"alt+\";\n",
       "    if (event.shiftKey && event.which != 16)\n",
       "        value += \"shift+\";\n",
       "\n",
       "    value += 'k';\n",
       "    value += event.which.toString();\n",
       "\n",
       "    this._key_event_extra(event, name);\n",
       "\n",
       "    this.send_message(name, {key: value,\n",
       "                             guiEvent: simpleKeys(event)});\n",
       "    return false;\n",
       "}\n",
       "\n",
       "mpl.figure.prototype.toolbar_button_onclick = function(name) {\n",
       "    if (name == 'download') {\n",
       "        this.handle_save(this, null);\n",
       "    } else {\n",
       "        this.send_message(\"toolbar_button\", {name: name});\n",
       "    }\n",
       "};\n",
       "\n",
       "mpl.figure.prototype.toolbar_button_onmouseover = function(tooltip) {\n",
       "    this.message.textContent = tooltip;\n",
       "};\n",
       "mpl.toolbar_items = [[\"Home\", \"Reset original view\", \"fa fa-home icon-home\", \"home\"], [\"Back\", \"Back to  previous view\", \"fa fa-arrow-left icon-arrow-left\", \"back\"], [\"Forward\", \"Forward to next view\", \"fa fa-arrow-right icon-arrow-right\", \"forward\"], [\"\", \"\", \"\", \"\"], [\"Pan\", \"Pan axes with left mouse, zoom with right\", \"fa fa-arrows icon-move\", \"pan\"], [\"Zoom\", \"Zoom to rectangle\", \"fa fa-square-o icon-check-empty\", \"zoom\"], [\"\", \"\", \"\", \"\"], [\"Download\", \"Download plot\", \"fa fa-floppy-o icon-save\", \"download\"]];\n",
       "\n",
       "mpl.extensions = [\"eps\", \"jpeg\", \"pdf\", \"png\", \"ps\", \"raw\", \"svg\", \"tif\"];\n",
       "\n",
       "mpl.default_extension = \"png\";var comm_websocket_adapter = function(comm) {\n",
       "    // Create a \"websocket\"-like object which calls the given IPython comm\n",
       "    // object with the appropriate methods. Currently this is a non binary\n",
       "    // socket, so there is still some room for performance tuning.\n",
       "    var ws = {};\n",
       "\n",
       "    ws.close = function() {\n",
       "        comm.close()\n",
       "    };\n",
       "    ws.send = function(m) {\n",
       "        //console.log('sending', m);\n",
       "        comm.send(m);\n",
       "    };\n",
       "    // Register the callback with on_msg.\n",
       "    comm.on_msg(function(msg) {\n",
       "        //console.log('receiving', msg['content']['data'], msg);\n",
       "        // Pass the mpl event to the overriden (by mpl) onmessage function.\n",
       "        ws.onmessage(msg['content']['data'])\n",
       "    });\n",
       "    return ws;\n",
       "}\n",
       "\n",
       "mpl.mpl_figure_comm = function(comm, msg) {\n",
       "    // This is the function which gets called when the mpl process\n",
       "    // starts-up an IPython Comm through the \"matplotlib\" channel.\n",
       "\n",
       "    var id = msg.content.data.id;\n",
       "    // Get hold of the div created by the display call when the Comm\n",
       "    // socket was opened in Python.\n",
       "    var element = $(\"#\" + id);\n",
       "    var ws_proxy = comm_websocket_adapter(comm)\n",
       "\n",
       "    function ondownload(figure, format) {\n",
       "        window.open(figure.imageObj.src);\n",
       "    }\n",
       "\n",
       "    var fig = new mpl.figure(id, ws_proxy,\n",
       "                           ondownload,\n",
       "                           element.get(0));\n",
       "\n",
       "    // Call onopen now - mpl needs it, as it is assuming we've passed it a real\n",
       "    // web socket which is closed, not our websocket->open comm proxy.\n",
       "    ws_proxy.onopen();\n",
       "\n",
       "    fig.parent_element = element.get(0);\n",
       "    fig.cell_info = mpl.find_output_cell(\"<div id='\" + id + \"'></div>\");\n",
       "    if (!fig.cell_info) {\n",
       "        console.error(\"Failed to find cell for figure\", id, fig);\n",
       "        return;\n",
       "    }\n",
       "\n",
       "    var output_index = fig.cell_info[2]\n",
       "    var cell = fig.cell_info[0];\n",
       "\n",
       "};\n",
       "\n",
       "mpl.figure.prototype.handle_close = function(fig, msg) {\n",
       "    fig.root.unbind('remove')\n",
       "\n",
       "    // Update the output cell to use the data from the current canvas.\n",
       "    fig.push_to_output();\n",
       "    var dataURL = fig.canvas.toDataURL();\n",
       "    // Re-enable the keyboard manager in IPython - without this line, in FF,\n",
       "    // the notebook keyboard shortcuts fail.\n",
       "    IPython.keyboard_manager.enable()\n",
       "    $(fig.parent_element).html('<img src=\"' + dataURL + '\">');\n",
       "    fig.close_ws(fig, msg);\n",
       "}\n",
       "\n",
       "mpl.figure.prototype.close_ws = function(fig, msg){\n",
       "    fig.send_message('closing', msg);\n",
       "    // fig.ws.close()\n",
       "}\n",
       "\n",
       "mpl.figure.prototype.push_to_output = function(remove_interactive) {\n",
       "    // Turn the data on the canvas into data in the output cell.\n",
       "    var dataURL = this.canvas.toDataURL();\n",
       "    this.cell_info[1]['text/html'] = '<img src=\"' + dataURL + '\">';\n",
       "}\n",
       "\n",
       "mpl.figure.prototype.updated_canvas_event = function() {\n",
       "    // Tell IPython that the notebook contents must change.\n",
       "    IPython.notebook.set_dirty(true);\n",
       "    this.send_message(\"ack\", {});\n",
       "    var fig = this;\n",
       "    // Wait a second, then push the new image to the DOM so\n",
       "    // that it is saved nicely (might be nice to debounce this).\n",
       "    setTimeout(function () { fig.push_to_output() }, 1000);\n",
       "}\n",
       "\n",
       "mpl.figure.prototype._init_toolbar = function() {\n",
       "    var fig = this;\n",
       "\n",
       "    var nav_element = $('<div/>')\n",
       "    nav_element.attr('style', 'width: 100%');\n",
       "    this.root.append(nav_element);\n",
       "\n",
       "    // Define a callback function for later on.\n",
       "    function toolbar_event(event) {\n",
       "        return fig.toolbar_button_onclick(event['data']);\n",
       "    }\n",
       "    function toolbar_mouse_event(event) {\n",
       "        return fig.toolbar_button_onmouseover(event['data']);\n",
       "    }\n",
       "\n",
       "    for(var toolbar_ind in mpl.toolbar_items){\n",
       "        var name = mpl.toolbar_items[toolbar_ind][0];\n",
       "        var tooltip = mpl.toolbar_items[toolbar_ind][1];\n",
       "        var image = mpl.toolbar_items[toolbar_ind][2];\n",
       "        var method_name = mpl.toolbar_items[toolbar_ind][3];\n",
       "\n",
       "        if (!name) { continue; };\n",
       "\n",
       "        var button = $('<button class=\"btn btn-default\" href=\"#\" title=\"' + name + '\"><i class=\"fa ' + image + ' fa-lg\"></i></button>');\n",
       "        button.click(method_name, toolbar_event);\n",
       "        button.mouseover(tooltip, toolbar_mouse_event);\n",
       "        nav_element.append(button);\n",
       "    }\n",
       "\n",
       "    // Add the status bar.\n",
       "    var status_bar = $('<span class=\"mpl-message\" style=\"text-align:right; float: right;\"/>');\n",
       "    nav_element.append(status_bar);\n",
       "    this.message = status_bar[0];\n",
       "\n",
       "    // Add the close button to the window.\n",
       "    var buttongrp = $('<div class=\"btn-group inline pull-right\"></div>');\n",
       "    var button = $('<button class=\"btn btn-mini btn-primary\" href=\"#\" title=\"Stop Interaction\"><i class=\"fa fa-power-off icon-remove icon-large\"></i></button>');\n",
       "    button.click(function (evt) { fig.handle_close(fig, {}); } );\n",
       "    button.mouseover('Stop Interaction', toolbar_mouse_event);\n",
       "    buttongrp.append(button);\n",
       "    var titlebar = this.root.find($('.ui-dialog-titlebar'));\n",
       "    titlebar.prepend(buttongrp);\n",
       "}\n",
       "\n",
       "mpl.figure.prototype._root_extra_style = function(el){\n",
       "    var fig = this\n",
       "    el.on(\"remove\", function(){\n",
       "\tfig.close_ws(fig, {});\n",
       "    });\n",
       "}\n",
       "\n",
       "mpl.figure.prototype._canvas_extra_style = function(el){\n",
       "    // this is important to make the div 'focusable\n",
       "    el.attr('tabindex', 0)\n",
       "    // reach out to IPython and tell the keyboard manager to turn it's self\n",
       "    // off when our div gets focus\n",
       "\n",
       "    // location in version 3\n",
       "    if (IPython.notebook.keyboard_manager) {\n",
       "        IPython.notebook.keyboard_manager.register_events(el);\n",
       "    }\n",
       "    else {\n",
       "        // location in version 2\n",
       "        IPython.keyboard_manager.register_events(el);\n",
       "    }\n",
       "\n",
       "}\n",
       "\n",
       "mpl.figure.prototype._key_event_extra = function(event, name) {\n",
       "    var manager = IPython.notebook.keyboard_manager;\n",
       "    if (!manager)\n",
       "        manager = IPython.keyboard_manager;\n",
       "\n",
       "    // Check for shift+enter\n",
       "    if (event.shiftKey && event.which == 13) {\n",
       "        this.canvas_div.blur();\n",
       "        // select the cell after this one\n",
       "        var index = IPython.notebook.find_cell_index(this.cell_info[0]);\n",
       "        IPython.notebook.select(index + 1);\n",
       "    }\n",
       "}\n",
       "\n",
       "mpl.figure.prototype.handle_save = function(fig, msg) {\n",
       "    fig.ondownload(fig, null);\n",
       "}\n",
       "\n",
       "\n",
       "mpl.find_output_cell = function(html_output) {\n",
       "    // Return the cell and output element which can be found *uniquely* in the notebook.\n",
       "    // Note - this is a bit hacky, but it is done because the \"notebook_saving.Notebook\"\n",
       "    // IPython event is triggered only after the cells have been serialised, which for\n",
       "    // our purposes (turning an active figure into a static one), is too late.\n",
       "    var cells = IPython.notebook.get_cells();\n",
       "    var ncells = cells.length;\n",
       "    for (var i=0; i<ncells; i++) {\n",
       "        var cell = cells[i];\n",
       "        if (cell.cell_type === 'code'){\n",
       "            for (var j=0; j<cell.output_area.outputs.length; j++) {\n",
       "                var data = cell.output_area.outputs[j];\n",
       "                if (data.data) {\n",
       "                    // IPython >= 3 moved mimebundle to data attribute of output\n",
       "                    data = data.data;\n",
       "                }\n",
       "                if (data['text/html'] == html_output) {\n",
       "                    return [cell, data, j];\n",
       "                }\n",
       "            }\n",
       "        }\n",
       "    }\n",
       "}\n",
       "\n",
       "// Register the function which deals with the matplotlib target/channel.\n",
       "// The kernel may be null if the page has been refreshed.\n",
       "if (IPython.notebook.kernel != null) {\n",
       "    IPython.notebook.kernel.comm_manager.register_target('matplotlib', mpl.mpl_figure_comm);\n",
       "}\n"
      ],
      "text/plain": [
       "<IPython.core.display.Javascript object>"
      ]
     },
     "metadata": {},
     "output_type": "display_data"
    },
    {
     "data": {
      "text/html": [
       "<img src=\"data:image/png;base64,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\">"
      ],
      "text/plain": [
       "<IPython.core.display.HTML object>"
      ]
     },
     "metadata": {},
     "output_type": "display_data"
    },
    {
     "data": {
      "text/plain": [
       "<matplotlib.text.Text at 0x115f9e350>"
      ]
     },
     "execution_count": 12,
     "metadata": {},
     "output_type": "execute_result"
    }
   ],
   "source": [
    "plt.hist(kmeans.labels_, color= 'orange')\n",
    "plt.xlabel('Cluster #')\n",
    "plt.ylabel('Counts')\n",
    "plt.title('Rider count for each driver cluster')"
   ]
  },
  {
   "cell_type": "markdown",
   "metadata": {},
   "source": [
    "Looks pretty well distributed. There were some cars that were far from everything else so we wouldn't expect them to get an equal # of riders. Let's see where the final centroids were."
   ]
  },
  {
   "cell_type": "code",
   "execution_count": 13,
   "metadata": {
    "collapsed": false
   },
   "outputs": [],
   "source": [
    "#Get centroids, turn them into a list of tuple pairs\n",
    "newCentroids= kmeans.cluster_centers_\n",
    "newCentroids= map(tuple,newCentroids)\n",
    "\n",
    "centroidLayer= gmaps.symbol_layer(\n",
    "    newCentroids, fill_color=None, stroke_color=\"blue\", scale=2)"
   ]
  },
  {
   "cell_type": "code",
   "execution_count": 14,
   "metadata": {
    "collapsed": false
   },
   "outputs": [],
   "source": [
    "#Plot the new centroids on map\n",
    "sfMap.add_layer(driverLayer)\n",
    "sfMap.add_layer(centroidLayer)\n",
    "sfMap"
   ]
  },
  {
   "cell_type": "markdown",
   "metadata": {
    "collapsed": false
   },
   "source": [
    "Ok cool, now that I've divided the data up. I need to plot them out by random colors. I have a couple more things to do: \n",
    "\n",
    "* <strong>Get travel times</strong>: Need to extract travel times using the Google Maps Distance Matrix API to find the closest locations. Getting the distance (either euclidean or route distance) are options, but assuming we'll drive, travel time is a much better indicator of how far two locations are. The shorter travel time the better.\n",
    "\n",
    "* <strong>Plan travel route</strong>: Given an initial location and a list of destinations, we'll find the nearest destination after each pickup based on travel time to order our pickup locations most efficiently. "
   ]
  },
  {
   "cell_type": "markdown",
   "metadata": {},
   "source": [
    "## Getting travel times using the GMaps Distance Matrix API\n",
    "\n",
    "<a id='Getting travel times using the GMaps Distance Matrix API'></a>\n",
    "\n",
    "To test out the API, let's first take some sample data from our destination dataset."
   ]
  },
  {
   "cell_type": "code",
   "execution_count": 15,
   "metadata": {
    "collapsed": false
   },
   "outputs": [],
   "source": [
    "origLat= riderData[0][0]\n",
    "origLong= riderData[0][1]\n",
    "\n",
    "destLat= destData[0][0]\n",
    "destLong= destData[0][1]"
   ]
  },
  {
   "cell_type": "code",
   "execution_count": 16,
   "metadata": {
    "collapsed": false
   },
   "outputs": [
    {
     "name": "stdout",
     "output_type": "stream",
     "text": [
      "{\"status\": \"OK\", \"rows\": [{\"elements\": [{\"duration\": {\"text\": \"19 mins\", \"value\": 1138}, \"distance\": {\"text\": \"4.7 mi\", \"value\": 7621}, \"status\": \"OK\"}]}], \"origin_addresses\": [\"3399 16th St, San Francisco, CA 94114, USA\"], \"destination_addresses\": [\"2399 30th Ave, San Francisco, CA 94116, USA\"]}\n"
     ]
    }
   ],
   "source": [
    "import googlemaps\n",
    "import urllib\n",
    "import json\n",
    "\n",
    "#URL to request distance (travel time) from googlemaps api\n",
    "url = 'https://maps.googleapis.com/maps/api/distancematrix/json?units=imperial&'\n",
    "\n",
    "#URL plus arguments and parameters for sample origins and destination \n",
    "fullURL= url+'origins='+str(origLat)+','+str(origLong)+'&destinations='+str(destLat)+','+str(destLong)+'&key='+os.environ['GOOGLE_API_KEY']\n",
    "\n",
    "#Open url and fetch travel time data \n",
    "gmapsData= urllib.urlopen(fullURL)\n",
    "\n",
    "#Read data\n",
    "gmapsData= gmapsData.read()\n",
    "jsonData= json.loads(str(gmapsData))\n",
    "\n",
    "#Print contents of json data\n",
    "print json.dumps(jsonData)"
   ]
  },
  {
   "cell_type": "code",
   "execution_count": 17,
   "metadata": {
    "collapsed": false
   },
   "outputs": [
    {
     "data": {
      "text/plain": [
       "dict"
      ]
     },
     "execution_count": 17,
     "metadata": {},
     "output_type": "execute_result"
    }
   ],
   "source": [
    "#Check data type\n",
    "type(jsonData)"
   ]
  },
  {
   "cell_type": "code",
   "execution_count": 18,
   "metadata": {
    "collapsed": false
   },
   "outputs": [
    {
     "data": {
      "text/plain": [
       "u'19 mins'"
      ]
     },
     "execution_count": 18,
     "metadata": {},
     "output_type": "execute_result"
    }
   ],
   "source": [
    "#Since it's a dictionary extract only the duration of driving time (default mode of travel)\n",
    "jsonData['rows'][0]['elements'][0]['duration']['text']"
   ]
  },
  {
   "cell_type": "markdown",
   "metadata": {
    "collapsed": true
   },
   "source": [
    "This data was a little complicated to extract so let me write a function that will get the estimated travel time given two locations."
   ]
  },
  {
   "cell_type": "code",
   "execution_count": 23,
   "metadata": {
    "collapsed": false
   },
   "outputs": [],
   "source": [
    "import googlemaps\n",
    "import urllib\n",
    "import json\n",
    "\n",
    "def travelTime(origLatLong, destLatLong):\n",
    "\n",
    "    #URL to request distance (travel time) from googlemaps api\n",
    "    url = 'https://maps.googleapis.com/maps/api/distancematrix/json?units=imperial&'\n",
    "\n",
    "    #URL plus arguments and parameters for sample origins and destination \n",
    "    fullURL= url+'origins='+str(origLat)+','+str(origLong) + '&destinations='+str(destLat)+','+str(destLong)+'&key='+os.environ['GOOGLE_API_KEY']\n",
    "\n",
    "    #Open url and fetch travel time data \n",
    "    gmapsData= urllib.urlopen(fullURL)\n",
    "\n",
    "    #Read data\n",
    "    gmapsData= gmapsData.read()\n",
    "    jsonData= json.loads(str(gmapsData))\n",
    "\n",
    "    #Print contents of json data\n",
    "    return jsonData['rows'][0]['elements'][0]['duration']['text']"
   ]
  },
  {
   "cell_type": "code",
   "execution_count": 24,
   "metadata": {
    "collapsed": false
   },
   "outputs": [
    {
     "name": "stdout",
     "output_type": "stream",
     "text": [
      "19 mins\n"
     ]
    }
   ],
   "source": [
    "print travelTime([riderData[0][0],riderData[0][1]], [destData[0][0],destData[0][1]])"
   ]
  },
  {
   "cell_type": "code",
   "execution_count": null,
   "metadata": {
    "collapsed": true
   },
   "outputs": [],
   "source": []
  }
 ],
 "metadata": {
  "anaconda-cloud": {},
  "kernelspec": {
   "display_name": "Python [conda root]",
   "language": "python",
   "name": "conda-root-py"
  },
  "language_info": {
   "codemirror_mode": {
    "name": "ipython",
    "version": 2
   },
   "file_extension": ".py",
   "mimetype": "text/x-python",
   "name": "python",
   "nbconvert_exporter": "python",
   "pygments_lexer": "ipython2",
   "version": "2.7.12"
  },
  "widgets": {
   "state": {
    "9256b6c4bad5457d9f523ff9a9554416": {
     "views": [
      {
       "cell_index": 14
      },
      {
       "cell_index": 23
      }
     ]
    }
   },
   "version": "1.2.0"
  }
 },
 "nbformat": 4,
 "nbformat_minor": 1
}
