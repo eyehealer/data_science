{
 "cells": [
  {
   "cell_type": "markdown",
   "metadata": {},
   "source": [
    "# Introduction"
   ]
  },
  {
   "cell_type": "markdown",
   "metadata": {
    "collapsed": true
   },
   "source": [
    "In this project I'll try to play around with setlist information and ultimately try to see if I can make recommendations about a venue a band can play at based on how well the band's style matches with a venue's attributes."
   ]
  },
  {
   "cell_type": "markdown",
   "metadata": {},
   "source": [
    "[Retrieving Data From Setlist.fm API](#Retrieving Data From Setlist.fm API)\n",
    "\n",
    "[Exploring Data](#Exploring Data)\n",
    "\n",
    "[Modeling Data](#Modeling Data)\n",
    "\n",
    "[Model Validation](#Model Validation)"
   ]
  },
  {
   "cell_type": "markdown",
   "metadata": {},
   "source": [
    "## Retrieving Data From Setlist.fm API\n",
    "\n",
    "<a id='Retrieving Data From Setlist.fm API'></a>"
   ]
  },
  {
   "cell_type": "code",
   "execution_count": 1,
   "metadata": {
    "collapsed": true
   },
   "outputs": [],
   "source": [
    "import numpy as np#Math library\n",
    "import pandas as pd#Table library\n",
    "import matplotlib.pyplot as plt#Plotting library\n",
    "import pandas as pd\n",
    "import warnings\n",
    "import seaborn as sns#Plotting library\n",
    "warnings.filterwarnings('ignore')#Gets rid of popup warnings\n",
    "%matplotlib nbagg"
   ]
  },
  {
   "cell_type": "markdown",
   "metadata": {
    "collapsed": true
   },
   "source": [
    "Here I'll first see if I can GET info from setlist.fm using its RESTful API. I know that one of the methods is to get artist information. Since I know Elliott Smith's MID identifier, I can retrieve it first in a json format and then see if I can expand it and turn it into a dictionary that I can organize to find useful information."
   ]
  },
  {
   "cell_type": "markdown",
   "metadata": {},
   "source": [
    "I'll use the requests library (could also use urllib2) to use its get method to communicate with the API. I'll first try to retrieve items for a specific artist, Elliott Smith who has a musicbrainz ID (MID) of 03ad1736-b7c9-412a-b442-82536d63a5c4. Let's see what it returns in our json file."
   ]
  },
  {
   "cell_type": "code",
   "execution_count": 110,
   "metadata": {
    "collapsed": false
   },
   "outputs": [],
   "source": [
    "import requests\n",
    "\n",
    "raw_data= requests.get(\n",
    "    'https://api.setlist.fm/rest/0.1/artist/03ad1736-b7c9-412a-b442-82536d63a5c4/setlists.json')"
   ]
  },
  {
   "cell_type": "code",
   "execution_count": 128,
   "metadata": {
    "collapsed": false
   },
   "outputs": [
    {
     "name": "stdout",
     "output_type": "stream",
     "text": [
      "{\n",
      " \"setlists\":{\n",
      "  \"@itemsPerPage\":\"20\",\n",
      "  \"@page\":\"1\",\n",
      "  \"@total\":\"300\",\n",
      "  \"setlist\":[\n",
      "   {\n",
      "    \"@ev\n"
     ]
    }
   ],
   "source": [
    "#Let's see what it contains\n",
    "print raw_data.content[0:100]"
   ]
  },
  {
   "cell_type": "markdown",
   "metadata": {},
   "source": [
    "So it looks like there are 300 setlists total and that we get 20 setlists per page, and we're only on page 1. Thus, we'll need to repeat this step multiple times to get all 300 setlists. In the documentation it mentions that we can choose page number as an argument so we'll increase the page number every time we make a request and append that our our address and append the results to a new list until we don't have any more pages."
   ]
  },
  {
   "cell_type": "code",
   "execution_count": 129,
   "metadata": {
    "collapsed": false
   },
   "outputs": [],
   "source": [
    "#Import json library for json.loads (turns json object into dictionary object)\n",
    "import json\n",
    "\n",
    "#Initialize empty list to append setlists on page to\n",
    "totalData= []\n",
    "\n",
    "#Set main body of address\n",
    "address= 'https://api.setlist.fm/rest/0.1/artist/03ad1736-b7c9-412a-b442-82536d63a5c4/setlists.json'\n",
    "\n",
    "#Initialize counter and comparison variable\n",
    "i= 1\n",
    "val= True\n",
    "pageArg= '?p='\n",
    "\n",
    "#Loop while val is true. Will update counter and page number at every loop\n",
    "#Will then append to address and check if response of call is \n",
    "#a valid payload response (200). If so, append data to totalData list\n",
    "\n",
    "while val== True:\n",
    "    fetch= requests.get(address+pageArg+str(i))\n",
    "    if str(fetch) == '<Response [200]>':\n",
    "        totalData.append(json.loads(str(fetch.content)))\n",
    "        i +=1\n",
    "    else:\n",
    "        val= False"
   ]
  },
  {
   "cell_type": "code",
   "execution_count": 136,
   "metadata": {
    "collapsed": false
   },
   "outputs": [
    {
     "name": "stdout",
     "output_type": "stream",
     "text": [
      "Number of elements in our list is: 15\n",
      "Page number of last element is: 15\n"
     ]
    }
   ],
   "source": [
    "print 'Number of elements in our list is: {}'.format(len(totalData))\n",
    "print 'Page number of last element is: {}'.format(totalData[14]['setlists']['@page'])"
   ]
  },
  {
   "cell_type": "markdown",
   "metadata": {},
   "source": [
    "Excellent! I was able to iterate through multiple pages of the setlist.fm webpage and pulled out all of the setlist information for Elliott Smith! :)"
   ]
  },
  {
   "cell_type": "markdown",
   "metadata": {},
   "source": [
    "## Exploring Data\n",
    "\n",
    "<a id='Exploring Data'></a>"
   ]
  },
  {
   "cell_type": "markdown",
   "metadata": {},
   "source": [
    "Ok so I basically have three pieces of information. I found the MusicBrainz database which is a little complicated to access (need to setup posgresql db from scratch). That said, I also found the million song tweet database, a lot of which contains rich information about geography etc etc. Finally, I have the setlist database which has info on venues and artist history at these venues. \n",
    "\n",
    "Let me now try to explore these data packets more closely. "
   ]
  },
  {
   "cell_type": "code",
   "execution_count": 165,
   "metadata": {
    "collapsed": false
   },
   "outputs": [],
   "source": [
    "#I'll just fetch the data for the first event in our list\n",
    "\n",
    "firstSet= totalData[0]['setlists']['setlist'][0]"
   ]
  },
  {
   "cell_type": "code",
   "execution_count": 166,
   "metadata": {
    "collapsed": false
   },
   "outputs": [
    {
     "data": {
      "text/plain": [
       "[u'artist',\n",
       " u'url',\n",
       " u'@lastUpdated',\n",
       " u'venue',\n",
       " u'@versionId',\n",
       " u'sets',\n",
       " u'@id',\n",
       " u'@eventDate']"
      ]
     },
     "execution_count": 166,
     "metadata": {},
     "output_type": "execute_result"
    }
   ],
   "source": [
    "firstSet.keys()"
   ]
  },
  {
   "cell_type": "code",
   "execution_count": 167,
   "metadata": {
    "collapsed": false
   },
   "outputs": [
    {
     "data": {
      "text/plain": [
       "{u'@id': u'13d721b9',\n",
       " u'@name': u'Redfest',\n",
       " u'city': {u'@id': u'5780993',\n",
       "  u'@name': u'Salt Lake City',\n",
       "  u'@state': u'Utah',\n",
       "  u'@stateCode': u'UT',\n",
       "  u'coords': {u'@lat': u'40.7607794', u'@long': u'-111.8910474'},\n",
       "  u'country': {u'@code': u'US', u'@name': u'United States'}},\n",
       " u'url': u'http://www.setlist.fm/venue/redfest-salt-lake-city-ut-usa-13d721b9.html'}"
      ]
     },
     "execution_count": 167,
     "metadata": {},
     "output_type": "execute_result"
    }
   ],
   "source": [
    "#Let's look at the information available for the venue\n",
    "\n",
    "firstSet['venue']"
   ]
  },
  {
   "cell_type": "markdown",
   "metadata": {},
   "source": [
    "Name, city/state, and long/lat are pretty good. Now let's see if there's any additional info if we get data from the venue endpoint directly. "
   ]
  },
  {
   "cell_type": "code",
   "execution_count": 168,
   "metadata": {
    "collapsed": false
   },
   "outputs": [
    {
     "data": {
      "text/plain": [
       "'{\\n \"venue\":{\\n  \"@id\":\"3d6358b\",\\n  \"@name\":\"Bottom of the Hill\",\\n  \"city\":{\\n   \"@id\":\"5391959\",\\n   \"@name\":\"San Francisco\",\\n   \"@state\":\"California\",\\n   \"@stateCode\":\"CA\",\\n   \"coords\":{\\n    \"@lat\":\"37.775\",\\n    \"@long\":\"-122.419\"\\n   },\\n   \"country\":{\\n    \"@code\":\"US\",\\n    \"@name\":\"United States\"\\n   }\\n  },\\n  \"url\":\"http:\\\\/\\\\/www.setlist.fm\\\\/venue\\\\/bottom-of-the-hill-san-francisco-ca-usa-3d6358b.html\"\\n }\\n}'"
      ]
     },
     "execution_count": 168,
     "metadata": {},
     "output_type": "execute_result"
    }
   ],
   "source": [
    "venueAddress= 'https://api.setlist.fm/rest/0.1/venue/3d6358b.json'\n",
    "fetchVenue= requests.get(venueAddress)\n",
    "fetchVenue.content"
   ]
  },
  {
   "cell_type": "markdown",
   "metadata": {},
   "source": [
    "Hmm..there's not much more than what we already had. Ok, may need to look for a different resource for venue information/descriptions. "
   ]
  },
  {
   "cell_type": "markdown",
   "metadata": {},
   "source": [
    "## Formatting Data\n",
    "\n",
    "<a id='Formatting Data'></a>"
   ]
  },
  {
   "cell_type": "markdown",
   "metadata": {},
   "source": [
    "## Formatting Data\n",
    "\n",
    "<a id='Formatting Data'></a>"
   ]
  },
  {
   "cell_type": "markdown",
   "metadata": {},
   "source": [
    "## Formatting Data\n",
    "\n",
    "<a id='Formatting Data'></a>"
   ]
  },
  {
   "cell_type": "code",
   "execution_count": null,
   "metadata": {
    "collapsed": true
   },
   "outputs": [],
   "source": []
  },
  {
   "cell_type": "code",
   "execution_count": null,
   "metadata": {
    "collapsed": true
   },
   "outputs": [],
   "source": []
  },
  {
   "cell_type": "code",
   "execution_count": null,
   "metadata": {
    "collapsed": true
   },
   "outputs": [],
   "source": []
  }
 ],
 "metadata": {
  "anaconda-cloud": {},
  "kernelspec": {
   "display_name": "Python [conda root]",
   "language": "python",
   "name": "conda-root-py"
  },
  "language_info": {
   "codemirror_mode": {
    "name": "ipython",
    "version": 2
   },
   "file_extension": ".py",
   "mimetype": "text/x-python",
   "name": "python",
   "nbconvert_exporter": "python",
   "pygments_lexer": "ipython2",
   "version": "2.7.12"
  }
 },
 "nbformat": 4,
 "nbformat_minor": 1
}
