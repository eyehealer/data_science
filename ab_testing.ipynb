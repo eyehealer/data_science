{
 "cells": [
  {
   "cell_type": "markdown",
   "metadata": {},
   "source": [
    "# A/B Testing and Power Analysis\n",
    "<i>By Diego Ramallo</i>"
   ]
  },
  {
   "cell_type": "markdown",
   "metadata": {},
   "source": [
    "<img src=\"https://dl.dropboxusercontent.com/u/59776078/data_science/data_science/branch-1290017_1280.png\" alt=\"Drawing\" style=\"width: 350px;\"/>"
   ]
  },
  {
   "cell_type": "markdown",
   "metadata": {},
   "source": [
    "A/B testing is an experimental method used to <strong>measure the effect of a variable on a target response</strong>. For example, many tech companies use this method to test the effect of product features on an outcome such as visits, click-through rate, and other metrics that indicate business success. As a data scientist, <strong>the outcome of your A/B tests can help your clients make data-driven business decisions.</strong> Here, we will provide a walkthrough with examples and tips for how to conduct an A/B test and how to analyze the data properly."
   ]
  },
  {
   "cell_type": "markdown",
   "metadata": {},
   "source": [
    "### Table of Contents\n",
    "\n",
    "[1. A/B Test Design |](#A/B Test Design)\n",
    "[2. Continuous Data: T-Test and Non-parametric Tests |](#Continuous Data: T-Test and Non-parametric Tests)\n",
    "\n",
    "[3. Categorical Data: Chi-Squared Test |](#Categorical Data: Chi-Squared Test)\n",
    "[4. Power Analysis |](#Power Analysis)\n",
    "[5.Final Thoughts](#Final Thoughts)\n",
    "\n"
   ]
  },
  {
   "cell_type": "markdown",
   "metadata": {},
   "source": [
    "## A/B Test Design\n",
    "\n",
    "<a id='A/B Test Design'></a>"
   ]
  },
  {
   "cell_type": "markdown",
   "metadata": {},
   "source": [
    "Before conducting your A/B test, it's important to understand your system, your data, and potential outcomes. Typically, you'll be testing whether the difference you observe between two conditions is significant enough to make a decision/enact a feature on that action. Here are a few questions you should answer before performing an A/B test:\n",
    "\n",
    "1. What is the metric that I will be measuring? What variables will I be comparing? \n",
    "2. Do I currently have the data to answer this question? Is it continuous or categorical?\n",
    "3. How will I test my hypothesis?\n",
    "4. How much data will be necessary to detect a significant result? This is called  <strong>Power Analysis</strong>.  "
   ]
  },
  {
   "cell_type": "markdown",
   "metadata": {},
   "source": [
    "## Continuous Data: T-Test and Non-parametric Tests\n",
    "\n",
    "<a id='Continuous Data: T-Test and Non-parametric Tests'></a>"
   ]
  },
  {
   "cell_type": "markdown",
   "metadata": {},
   "source": [
    "Let's assume we're interested in improving the amount of money people donate to our charity. We have the option of using either a blue or an orange 'donate' button to see if one is better at bringing in donations than the other. This will require an A/B test!\n",
    "\n",
    "### Normal Data\n",
    "\n",
    "Since we will have sampled our users from the same population and just given them different button conditions, we'll assume equal variance (same sigma). "
   ]
  },
  {
   "cell_type": "code",
   "execution_count": 6,
   "metadata": {
    "collapsed": false
   },
   "outputs": [
    {
     "name": "stdout",
     "output_type": "stream",
     "text": [
      "Here is a glimpse of some of our data:\n",
      "Blue button donations, orange button donations\n"
     ]
    },
    {
     "data": {
      "text/plain": [
       "[(21.473625286273755, 15.902679207707573),\n",
       " (20.64617949401433, 15.649060155350575),\n",
       " (19.79516860569073, 11.472138379075263),\n",
       " (17.350363302366489, 16.821689532860042),\n",
       " (21.340372558819929, 14.544832550534785),\n",
       " (18.902283417910336, 10.384499271426662),\n",
       " (19.476666067763073, 19.526976173510999),\n",
       " (15.996241952619947, 16.226421745963886),\n",
       " (20.37886899045025, 11.934444179620286),\n",
       " (20.725047367972806, 18.262024323498821)]"
      ]
     },
     "execution_count": 6,
     "metadata": {},
     "output_type": "execute_result"
    }
   ],
   "source": [
    "import numpy as np\n",
    "\n",
    "#Generate normal distribution mean and standard deviations both buttons\n",
    "blue_mu, blue_sigma= 20,3\n",
    "orange_mu, orange_sigma= 15,3\n",
    "\n",
    "#Sample data for each button using above parameters\n",
    "blue_button_donation= np.random.normal(blue_mu,blue_sigma,1000)\n",
    "orange_button_donation= np.random.normal(orange_mu,orange_sigma,1000)\n",
    "\n",
    "print 'Here is a glimpse of some of our data:'\n",
    "print 'Blue button donations, orange button donations'\n",
    "zip(blue_button_donation[0:10], orange_button_donation[0:10])"
   ]
  },
  {
   "cell_type": "code",
   "execution_count": 7,
   "metadata": {
    "collapsed": false
   },
   "outputs": [
    {
     "name": "stdout",
     "output_type": "stream",
     "text": [
      "Histograms\n"
     ]
    },
    {
     "data": {
      "image/png": "[encoded data removed]",
      "text/plain": [
       "<matplotlib.figure.Figure at 0x10b57f910>"
      ]
     },
     "metadata": {},
     "output_type": "display_data"
    }
   ],
   "source": [
    "import matplotlib.pyplot as plt\n",
    "\n",
    "#Plot histogram\n",
    "%matplotlib inline\n",
    "plt.hist(blue_button_donation, color= 'blue', alpha= 0.75)\n",
    "plt.hist(orange_button_donation, color= 'orange', alpha= 0.75)\n",
    "plt.xlabel('Donation Amounts ($)')\n",
    "print 'Histograms'"
   ]
  },
  {
   "cell_type": "markdown",
   "metadata": {},
   "source": [
    "Now that we have our data, we need to test our null hypothesis that the mean value for donations using the blue or orange button are equal. For continuous data we have a few flavors of tests."
   ]
  },
  {
   "cell_type": "markdown",
   "metadata": {},
   "source": [
    "### T-Test\n",
    "\n",
    "For now, since our data is normally distributed we'll perform a very simple two-sample t-test using scipy's stats library. Since it's a typical (but <strong>completely arbitrary</strong>) value, let's assume that our threshold for significance will be at <strong>p= 0.05</strong>. If we fall below it, we'll deem the difference in means to be significant, indicating that we can reject the null hypothesis."
   ]
  },
  {
   "cell_type": "code",
   "execution_count": 181,
   "metadata": {
    "collapsed": false
   },
   "outputs": [
    {
     "name": "stdout",
     "output_type": "stream",
     "text": [
      "T-Test p-value: \n"
     ]
    },
    {
     "data": {
      "text/plain": [
       "Ttest_indResult(statistic=34.151692831164517, pvalue=9.5550668497062891e-202)"
      ]
     },
     "execution_count": 181,
     "metadata": {},
     "output_type": "execute_result"
    }
   ],
   "source": [
    "#Import scipy which has stats t-test libraries\n",
    "from scipy import stats\n",
    "\n",
    "#Feed blue and orange button data to perform test assuming equal variance\n",
    "t_test= scipy.stats.ttest_ind(blue_button_donation, orange_button_donation,\n",
    "                             equal_var= True)\n",
    "\n",
    "#Print t-score statistic and p-value\n",
    "print 'T-Test p-value: '\n",
    "t_test"
   ]
  },
  {
   "cell_type": "markdown",
   "metadata": {},
   "source": [
    "Excellent, so our p-value is much smaller than p= 0.05. This indicates that we'd expect a difference of the means between these two independent populations to occur by chance only 9.5-241 percent of the time. "
   ]
  },
  {
   "cell_type": "markdown",
   "metadata": {},
   "source": [
    "### Non-parametric tests for skewed data\n",
    "\n",
    "What happens if our data isn't normal though? Let's first look to see how the data could look."
   ]
  },
  {
   "cell_type": "code",
   "execution_count": 169,
   "metadata": {
    "collapsed": false
   },
   "outputs": [],
   "source": [
    "#Generate skewed normal distributions\n",
    "from scipy.stats import skewnorm\n",
    "\n",
    "#Identify parameters to separate them and make them reproducible\n",
    "a= 5\n",
    "b= 10\n",
    "blue_skewed= skewnorm.rvs(a, size=1000, loc= 15.101, random_state=42)\n",
    "orange_skewed= skewnorm.rvs(b, size=1000, loc= 15.000, random_state=24)"
   ]
  },
  {
   "cell_type": "code",
   "execution_count": 183,
   "metadata": {
    "collapsed": false
   },
   "outputs": [
    {
     "name": "stdout",
     "output_type": "stream",
     "text": [
      "Histogram\n"
     ]
    },
    {
     "data": {
      "image/png": "[encoded data removed]",
      "text/plain": [
       "<matplotlib.figure.Figure at 0x116e38bd0>"
      ]
     },
     "metadata": {},
     "output_type": "display_data"
    }
   ],
   "source": [
    "plt.hist(blue_skewed, alpha= 0.75)\n",
    "plt.hist(orange_skewed, color= 'orange', alpha= 0.75)\n",
    "plt.xlabel('Donation Amounts ($)')\n",
    "print 'Histogram'"
   ]
  },
  {
   "cell_type": "markdown",
   "metadata": {},
   "source": [
    "### Mann-Whitney/Wilcoxon-ranksum and KSTest\n",
    "\n",
    "If NOT normally distributed, T-tests may still work, but you'll likely need very large datasets. \n",
    "\n",
    "A better option could be to use non-parametric tests that don't assume normality. For unpaired tests we can use the Wilcoxon/Mann-Whitney Test or a 2 sample Kilmogorov-Smirnov test (KS test)."
   ]
  },
  {
   "cell_type": "code",
   "execution_count": 178,
   "metadata": {
    "collapsed": false
   },
   "outputs": [
    {
     "name": "stdout",
     "output_type": "stream",
     "text": [
      "T-Test p-value: \n"
     ]
    },
    {
     "data": {
      "text/plain": [
       "Ttest_indResult(statistic=1.8045086905313954, pvalue=0.071302122160127712)"
      ]
     },
     "execution_count": 178,
     "metadata": {},
     "output_type": "execute_result"
    }
   ],
   "source": [
    "#Let's first try the two-sample T-test we used before\n",
    "print 'T-Test p-value: ' \n",
    "scipy.stats.ttest_ind(blue_skewed, orange_skewed, equal_var= True)"
   ]
  },
  {
   "cell_type": "code",
   "execution_count": 180,
   "metadata": {
    "collapsed": false
   },
   "outputs": [
    {
     "name": "stdout",
     "output_type": "stream",
     "text": [
      "MW/RS Test p-value: \n"
     ]
    },
    {
     "data": {
      "text/plain": [
       "RanksumsResult(statistic=1.9748827669075666, pvalue=0.048281453491185435)"
      ]
     },
     "execution_count": 180,
     "metadata": {},
     "output_type": "execute_result"
    }
   ],
   "source": [
    "#Now, the Mann-Whitney Test\n",
    "print 'MW/RS Test p-value: '\n",
    "stats.ranksums(blue_skewed, orange_skewed)"
   ]
  },
  {
   "cell_type": "code",
   "execution_count": 179,
   "metadata": {
    "collapsed": false
   },
   "outputs": [
    {
     "name": "stdout",
     "output_type": "stream",
     "text": [
      "KS Test p-value: \n"
     ]
    },
    {
     "data": {
      "text/plain": [
       "Ks_2sampResult(statistic=0.056999999999999995, pvalue=0.074847083825206578)"
      ]
     },
     "execution_count": 179,
     "metadata": {},
     "output_type": "execute_result"
    }
   ],
   "source": [
    "#Finally let's try the 2 sample KS Test\n",
    "print 'KS Test p-value: '\n",
    "stats.ks_2samp(blue_skewed, orange_skewed)"
   ]
  },
  {
   "cell_type": "markdown",
   "metadata": {},
   "source": [
    "This is an interesting result. As we mentioned earlier, the T-Test is no longer the appropriate test to use since our samples are not normally distributed. Here the test tells us that we failed to reject the null hypothesis since we're above p= 0.05. \n",
    "\n",
    "The correct test to use is the Mann-Whitney/Wilcoxon Ranksum test. It tells us that we actually fall below our significance threshold and we can thus reject our null hypothesis. \n",
    "\n",
    "Finally, another non-parametric test we can use is the KS Test. We see that like the T-Test, it also fails to reject the null hypothesis. Although it is non-parametric and doesn't assume normality, we can see that it failed to detect the difference that the MW test recognized (often cited as one of its weaknesses as a result of low statistical power)."
   ]
  },
  {
   "cell_type": "markdown",
   "metadata": {},
   "source": [
    "## Categorical Data: Chi-Squared Test\n",
    "\n",
    "<a id='Categorical Data: Chi-Squared Test'></a>\n",
    "\n",
    "\n",
    "In this scenario, we're no longer looking at the means. Instead, we'll look at the proportions or frequencies that events occur to determine if there's a significant difference between the frequencies of two groups. \n",
    "\n",
    "As an example, let's calculate the frequency of purchases actually placed once a user has clicked on the orange or blue buttons.\n",
    "\n",
    "            User enters portal --> User clicks purchase button (clicks) --> User makes purchase (purchases)\n",
    "            \n",
    "Let's see what some of this data could look like.                             "
   ]
  },
  {
   "cell_type": "code",
   "execution_count": 259,
   "metadata": {
    "collapsed": false
   },
   "outputs": [
    {
     "name": "stdout",
     "output_type": "stream",
     "text": [
      "Blue clicks:  15725 Orange clicks:  28030\n",
      "Blue purchases:  1346 Orange purchases:  21602\n"
     ]
    }
   ],
   "source": [
    "#Sample some random data from users\n",
    "np.random.seed(123)\n",
    "\n",
    "blueClicks= np.random.randint(100000)\n",
    "orangeClicks= np.random.randint(100000)\n",
    "\n",
    "#Get a fraction of these \n",
    "bluePurch= np.random.randint(blueClicks)\n",
    "orangePurch= np.random.randint(orangeClicks)\n",
    "\n",
    "print 'Blue clicks: ', blueClicks, 'Orange clicks: ', orangeClicks\n",
    "print 'Blue purchases: ', bluePurch, 'Orange purchases: ', orangePurch"
   ]
  },
  {
   "cell_type": "markdown",
   "metadata": {},
   "source": [
    "### Hypothesis Test: Chi-squared Test\n",
    "\n",
    "Users who purchased items had to go through this pipeline and as you'd expect, <strong>totButton</strong> will typically be larger than <strong>totBuy</strong> because some people change their minds and decide at the last second that they do not want to purchase an item. Let's generate some data to test if the frequency of purchases from the orange button is significantly different than for the blue button!  \n",
    "\n",
    "\\begin{align}\n",
    "\\ x^2 = \\sum_{i=1}^n\\frac{(\\text{Observed - Expected})^2}{\\text{Expected}}\\\\\n",
    "\\end{align}"
   ]
  },
  {
   "cell_type": "markdown",
   "metadata": {},
   "source": [
    "To get the observed and expected frequencies of purchases we'll do the following calculations: \n",
    "\n",
    "\\begin{align}\n",
    "\\ obsBlueFreq= \\frac{\\text{bluePurch}}{\\text{blueClicks}}\\\\\n",
    "\\end{align}\n",
    "\n",
    "\\begin{align}\n",
    "\\ obsOrangeFreq= \\frac{\\text{orangePurch}}{\\text{orangeClicks}}\\\\\n",
    "\\end{align}\n",
    "\n",
    "and the <strong><i>expected frequencies</i></strong> are just the mean of the two. Thus:"
   ]
  },
  {
   "cell_type": "code",
   "execution_count": 275,
   "metadata": {
    "collapsed": false
   },
   "outputs": [],
   "source": [
    "obsBlueFreq = bluePurch/blueClicks\n",
    "obsOrangeFreq = orangePurch/orangeClicks\n",
    "expectedFreq = np.mean([observedBlue,observedOrange])"
   ]
  },
  {
   "cell_type": "markdown",
   "metadata": {},
   "source": [
    "And since we only have two options Chi-squared value is just:\n",
    "\n",
    "\\begin{align}\n",
    "\\ x^2 = \\frac{(\\text{obsBlueFreq - expectedFreq})^2}{\\text{expectedFreq}} + \\frac{(\\text{obsOrangeFreq - expectedFreq})^2}{\\text{expectedFreq}}\\\\\n",
    "\\end{align}"
   ]
  },
  {
   "cell_type": "code",
   "execution_count": null,
   "metadata": {
    "collapsed": true
   },
   "outputs": [],
   "source": []
  },
  {
   "cell_type": "markdown",
   "metadata": {},
   "source": [
    "## Power Analysis\n",
    "\n",
    "<a id='Power Analysis'></a>"
   ]
  },
  {
   "cell_type": "markdown",
   "metadata": {},
   "source": [
    "Power analysis is a method in experimental design used to calculate the sample size needed to detect an effect at a certain confidence level. When comparing the <strong>difference of means</strong> for a control and an experimental group in an A/B test, we calculate the sample size as follows:\n",
    "\n",
    "\\begin{align}\n",
    "\\ n = \\frac{2*sigma^2*(beta + alpha)^2}{effect^2} \\\\\n",
    "\\end{align}\n",
    "\n",
    "Where n is the sample size, sigma is the standard deviation, alpha is the rate of type I errors, beta is rate of type II errors, and effect is the difference in means of the two groups you expect to see in your measurement."
   ]
  },
  {
   "cell_type": "markdown",
   "metadata": {},
   "source": [
    "n - The number of measurements you'd need to make to arrive at a statistically signficant difference designated by your critical value, alpha.\n",
    "\n",
    "alpha - Threshold for detecting false positives. Arbitrary, though a surprisingly high p-value of 0.05 has been used historically.\n",
    "\n",
    "beta - Threshold for <strong>not</strong> detecting a true event when it has occurred (false negative). Another arbitrary value of 0.8 has been used in the past.\n",
    "\n",
    "Effect Size - The magnitude of the difference between means of two groups that one would expect to see for this experiment.\n",
    "\n",
    "Sigma - Population standard deviation. If you don't know it for the population you can estimate it by sampling the population and using the sample standard deviation instead."
   ]
  },
  {
   "cell_type": "markdown",
   "metadata": {},
   "source": [
    "## Final Thoughts\n",
    "\n",
    "<a id='Final Thoughts'></a>"
   ]
  },
  {
   "cell_type": "code",
   "execution_count": null,
   "metadata": {
    "collapsed": false
   },
   "outputs": [],
   "source": []
  },
  {
   "cell_type": "code",
   "execution_count": null,
   "metadata": {
    "collapsed": false
   },
   "outputs": [],
   "source": []
  },
  {
   "cell_type": "code",
   "execution_count": 236,
   "metadata": {
    "collapsed": false
   },
   "outputs": [],
   "source": []
  },
  {
   "cell_type": "code",
   "execution_count": null,
   "metadata": {
    "collapsed": false
   },
   "outputs": [],
   "source": []
  },
  {
   "cell_type": "code",
   "execution_count": null,
   "metadata": {
    "collapsed": false
   },
   "outputs": [],
   "source": []
  },
  {
   "cell_type": "code",
   "execution_count": null,
   "metadata": {
    "collapsed": false
   },
   "outputs": [],
   "source": []
  },
  {
   "cell_type": "code",
   "execution_count": null,
   "metadata": {
    "collapsed": true
   },
   "outputs": [],
   "source": []
  }
 ],
 "metadata": {
  "anaconda-cloud": {},
  "kernelspec": {
   "display_name": "Python [conda root]",
   "language": "python",
   "name": "conda-root-py"
  },
  "language_info": {
   "codemirror_mode": {
    "name": "ipython",
    "version": 2
   },
   "file_extension": ".py",
   "mimetype": "text/x-python",
   "name": "python",
   "nbconvert_exporter": "python",
   "pygments_lexer": "ipython2",
   "version": "2.7.12"
  }
 },
 "nbformat": 4,
 "nbformat_minor": 0
}
