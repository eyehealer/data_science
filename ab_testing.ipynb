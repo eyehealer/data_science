{
 "cells": [
  {
   "cell_type": "markdown",
   "metadata": {},
   "source": [
    "# A/B Testing and Power Analysis\n",
    "<i>By Diego Ramallo</i>"
   ]
  },
  {
   "cell_type": "markdown",
   "metadata": {},
   "source": [
    "<img src=\"https://dl.dropboxusercontent.com/u/59776078/data_science/data_science/branch-1290017_1280.png\" alt=\"Drawing\" style=\"width: 350px;\"/>"
   ]
  },
  {
   "cell_type": "markdown",
   "metadata": {},
   "source": [
    "A/B testing is an experimental method used to <strong>measure the effect of a variable on a target response</strong>. For example, many tech companies use this method to test the effect of product features on an outcome such as visits, click-through rate, and other metrics that indicate business success. As a data scientist, <strong>the outcome of your A/B tests can help your clients make data-driven business decisions.</strong> Here, we will provide a walkthrough with examples and tips for how to conduct an A/B test and how to analyze the data properly."
   ]
  },
  {
   "cell_type": "markdown",
   "metadata": {},
   "source": [
    "[Experimental Design](#Experimental Design)\n",
    "\n",
    "[Hypothesis Testing](#Hypothesis Testing)\n",
    "\n",
    "[Continuous Data Example](#Continuous Data Example)\n",
    "\n",
    "[Power Analysis](#Power Analysis)\n",
    "\n",
    "[Final Thoughts](#Final Thoughts)\n",
    "\n"
   ]
  },
  {
   "cell_type": "markdown",
   "metadata": {},
   "source": [
    "## Experimental Design\n",
    "\n",
    "<a id='Experimental Design'></a>"
   ]
  },
  {
   "cell_type": "markdown",
   "metadata": {},
   "source": [
    "Before conducting your A/B test, it's important to understand your system, your data, and potential outcomes. Typically, you'll be testing whether the difference you observe between two conditions is significant enough to make a decision/enact a feature on that action. Here are a few questions you should answer before performing an A/B test:\n",
    "\n",
    "1. What is the metric that I will be measuring? What variables will I be comparing? \n",
    "2. Do I currently have the data to answer this question? Is it continuous or categorical?\n",
    "3. How will I test my hypothesis?\n",
    "4. How much data will be necessary to detect a significant result? This is called  <strong>Power Analysis</strong>.  "
   ]
  },
  {
   "cell_type": "markdown",
   "metadata": {},
   "source": [
    "## Continuous Data Example\n",
    "\n",
    "<a id='Continuous Data Example'></a>"
   ]
  },
  {
   "cell_type": "markdown",
   "metadata": {},
   "source": [
    "Let's assume we're interested in improving the amount of money people donate to our charity. We have the option of using either a blue or an orange 'donate' button to see if one is better at bringing in donations than the other. This will require an A/B test!\n",
    "\n",
    "### Normal Data\n",
    "\n",
    "Since we will have sampled our users from the same population and just given them different button conditions, we'll assume equal variance (same sigma). "
   ]
  },
  {
   "cell_type": "code",
   "execution_count": 6,
   "metadata": {
    "collapsed": false
   },
   "outputs": [
    {
     "name": "stdout",
     "output_type": "stream",
     "text": [
      "Here is a glimpse of some of our data:\n",
      "Blue button donations, orange button donations\n"
     ]
    },
    {
     "data": {
      "text/plain": [
       "[(21.473625286273755, 15.902679207707573),\n",
       " (20.64617949401433, 15.649060155350575),\n",
       " (19.79516860569073, 11.472138379075263),\n",
       " (17.350363302366489, 16.821689532860042),\n",
       " (21.340372558819929, 14.544832550534785),\n",
       " (18.902283417910336, 10.384499271426662),\n",
       " (19.476666067763073, 19.526976173510999),\n",
       " (15.996241952619947, 16.226421745963886),\n",
       " (20.37886899045025, 11.934444179620286),\n",
       " (20.725047367972806, 18.262024323498821)]"
      ]
     },
     "execution_count": 6,
     "metadata": {},
     "output_type": "execute_result"
    }
   ],
   "source": [
    "import numpy as np\n",
    "\n",
    "#Generate normal distribution mean and standard deviations both buttons\n",
    "blue_mu, blue_sigma= 20,3\n",
    "orange_mu, orange_sigma= 15,3\n",
    "\n",
    "#Sample data for each button using above parameters\n",
    "blue_button_donation= np.random.normal(blue_mu,blue_sigma,1000)\n",
    "orange_button_donation= np.random.normal(orange_mu,orange_sigma,1000)\n",
    "\n",
    "print 'Here is a glimpse of some of our data:'\n",
    "print 'Blue button donations, orange button donations'\n",
    "zip(blue_button_donation[0:10], orange_button_donation[0:10])"
   ]
  },
  {
   "cell_type": "code",
   "execution_count": 7,
   "metadata": {
    "collapsed": false
   },
   "outputs": [
    {
     "name": "stdout",
     "output_type": "stream",
     "text": [
      "Histograms\n"
     ]
    },
    {
     "data": {
      "image/png": "[encoded data removed]",
      "text/plain": [
       "<matplotlib.figure.Figure at 0x10b57f910>"
      ]
     },
     "metadata": {},
     "output_type": "display_data"
    }
   ],
   "source": [
    "import matplotlib.pyplot as plt\n",
    "\n",
    "#Plot histogram\n",
    "%matplotlib inline\n",
    "plt.hist(blue_button_donation, color= 'blue', alpha= 0.75)\n",
    "plt.hist(orange_button_donation, color= 'orange', alpha= 0.75)\n",
    "plt.xlabel('Donation Amounts ($)')\n",
    "print 'Histograms'"
   ]
  },
  {
   "cell_type": "markdown",
   "metadata": {},
   "source": [
    "### Skewed Normal Distribution\n",
    "\n",
    "What happens if our data isn't normal though? Let's first look to see how the data could look."
   ]
  },
  {
   "cell_type": "code",
   "execution_count": 26,
   "metadata": {
    "collapsed": false
   },
   "outputs": [],
   "source": [
    "#Generate skewed normal distributions\n",
    "from scipy.stats import skewnorm\n",
    "\n",
    "#Identify parameters to separate them and make them reproducible\n",
    "a= 5\n",
    "b= 10\n",
    "blue_skewed= skewnorm.rvs(a, size=1000, loc= 15, random_state=42)\n",
    "orange_skewed= skewnorm.rvs(b, size=1000, loc= 16, random_state=24)"
   ]
  },
  {
   "cell_type": "code",
   "execution_count": 27,
   "metadata": {
    "collapsed": false
   },
   "outputs": [
    {
     "data": {
      "text/plain": [
       "(array([ 190.,  274.,  248.,  150.,   78.,   38.,   15.,    6.,    0.,    1.]),\n",
       " array([ 15.83564379,  16.2445519 ,  16.65346   ,  17.06236811,\n",
       "         17.47127621,  17.88018431,  18.28909242,  18.69800052,\n",
       "         19.10690863,  19.51581673,  19.92472484]),\n",
       " <a list of 10 Patch objects>)"
      ]
     },
     "execution_count": 27,
     "metadata": {},
     "output_type": "execute_result"
    },
    {
     "data": {
      "image/png": "[encoded data removed]",
      "text/plain": [
       "<matplotlib.figure.Figure at 0x1108251d0>"
      ]
     },
     "metadata": {},
     "output_type": "display_data"
    }
   ],
   "source": [
    "plt.hist(blue_skewed, alpha= 0.75)\n",
    "plt.hist(orange_skewed, color= 'orange', alpha= 0.75)"
   ]
  },
  {
   "cell_type": "markdown",
   "metadata": {},
   "source": [
    "## Hypothesis Testing\n",
    "\n",
    "<a id='Hypothesis Testing'></a>"
   ]
  },
  {
   "cell_type": "markdown",
   "metadata": {},
   "source": [
    "Now that we have our data, we need to test it. For continuous data we have a few flavors of tests.\n",
    "\n",
    "a) If normally distributed: paired (before and after) or unpaired (one condition vs 2nd condition) t-tests. \n",
    "\n",
    "b) If NOT normally distributed, t-tests may still work, but you'll likely need very large datasets. A better option could be to use equivalent tests that don't assume normality, and compare the medians instead of means. For unpaired tests we can use the Wilcoxon/Mann-Whitney Test or a 2 sample Kilmogorov-Smirnov test (KS test).\n",
    "\n",
    "Also, be cautious about performing t-test on log-transformed data: means you're comparing may no longer reflect differences in means of original data."
   ]
  },
  {
   "cell_type": "markdown",
   "metadata": {},
   "source": [
    "### T-Test\n",
    "\n",
    "For now, since our data is normally distributed we'll perform a very simple two-sample t-test using scipy's stats library."
   ]
  },
  {
   "cell_type": "code",
   "execution_count": 31,
   "metadata": {
    "collapsed": false
   },
   "outputs": [
    {
     "name": "stdout",
     "output_type": "stream",
     "text": [
      "Ttest_indResult(statistic=34.151692831164517, pvalue=9.5550668497062891e-202)\n"
     ]
    }
   ],
   "source": [
    "#Import scipy which has stats t-test libraries\n",
    "from scipy import stats\n",
    "\n",
    "#Feed blue and orange button data to perform test assuming equal variance\n",
    "t_test= scipy.stats.ttest_ind(blue_button_donation, orange_button_donation,\n",
    "                             equal_var= True)\n",
    "\n",
    "#Print t-score statistic and p-value\n",
    "print t_test"
   ]
  },
  {
   "cell_type": "markdown",
   "metadata": {},
   "source": [
    "Excellent, so our p-value is 1.9E-245. This is an extremely small value indicating that we'd expect a difference of the means between these two independent populations to occur by chance only 1.9E-243 percent of the time. "
   ]
  },
  {
   "cell_type": "markdown",
   "metadata": {},
   "source": [
    "### Kilmogorov-Smirnov Test\n",
    "\n",
    "Now let's try using a test that doesn't assume normality."
   ]
  },
  {
   "cell_type": "code",
   "execution_count": 32,
   "metadata": {
    "collapsed": false
   },
   "outputs": [
    {
     "data": {
      "text/plain": [
       "Ks_2sampResult(statistic=0.68099999999999994, pvalue=4.3205041335352944e-204)"
      ]
     },
     "execution_count": 32,
     "metadata": {},
     "output_type": "execute_result"
    }
   ],
   "source": [
    "stats.ks_2samp(blue_skewed, orange_skewed)"
   ]
  },
  {
   "cell_type": "markdown",
   "metadata": {},
   "source": [
    "## Power Analysis\n",
    "\n",
    "<a id='Power Analysis'></a>"
   ]
  },
  {
   "cell_type": "markdown",
   "metadata": {},
   "source": [
    "Power analysis is a method in experimental design used to calculate the sample size needed to detect an effect at a certain confidence level. When comparing the <strong>difference of means</strong> for a control and an experimental group in an A/B test, we calculate the sample size as follows:\n",
    "\n",
    "\\begin{align}\n",
    "\\ n = \\frac{2*sigma^2*(beta + alpha)^2}{effect^2} \\\\\n",
    "\\end{align}\n",
    "\n",
    "Where n is the sample size, sigma is the standard deviation, beta is the power (1-type II error or prob. of finding an effect that is there), alpha is the type I error, and effect is the difference in means of the two groups you expect to see in your measurement."
   ]
  },
  {
   "cell_type": "markdown",
   "metadata": {},
   "source": [
    "a) Statistical Power refers to the probability that you'll accurately detect True Positives while avoiding False Positives of significant differences. http://meera.snre.umich.edu/power-analysis-statistical-significance-effect-size It makes sense that with more data you'll be able to differentiate appropriately, but how much is enough? It is recommended that you have a power of 0.8 or above. \n",
    "Power (sensitivity) has an inverse trade off with size. \n",
    "b) Applying it: Tools to calculate it - baseline conversion rate, practical significance level (absolute or relative)\n",
    "\n",
    "p-values: http://fivethirtyeight.com/features/statisticians-found-one-thing-they-can-agree-on-its-time-to-stop-misusing-p-values/ \n",
    "\n",
    "Effect Size - A metric that allows you to compare the results of significance of multiple tests on the same scale. (meanGroup1-meanGroup2/stdev(eitherGroup)) . 0.3-0.5 are considered moderate, and anything above is considered large difference effect. \n",
    "\n",
    "Since you can't calculate this until after experiment, for calculating power, it is suggested you use 0.5."
   ]
  },
  {
   "cell_type": "markdown",
   "metadata": {},
   "source": [
    "## Final Thoughts\n",
    "\n",
    "<a id='Final Thoughts'></a>"
   ]
  },
  {
   "cell_type": "markdown",
   "metadata": {},
   "source": [
    "Define question, and a hypothesis: eg. changing the color of my button on a page will increase user engagement.\n",
    "\n",
    "Define metric: eg. how do you measure 'user engagement'? Keep it practical (eg. clicks instead of certification). Rates or probability are common examples. Rates used to measure usability of site, probability used to measure total impact.\n",
    "\n",
    "<strong>Business Acumen</strong>\n",
    "*Understand your product (sensitive to seasonality?)\n",
    "*Understand your users\n",
    "*Understand results\n",
    "**Power analysis \n",
    "**Implications of results\n",
    "**"
   ]
  },
  {
   "cell_type": "markdown",
   "metadata": {},
   "source": [
    "Binomial - two possible outcomes"
   ]
  },
  {
   "cell_type": "markdown",
   "metadata": {
    "collapsed": true
   },
   "source": [
    "Final Observations\n",
    "*Understand the quality of data that you're collecting (shitty data gives shitty results). \n",
    "*Record the conditions of your experiments thoroughly (eg. metadata). Chances are you'll have to repeat the experiment, but proper design of your experiment will save time from having to repeat it again later. \n",
    "*Stay focused on answering question at hand.\n",
    "*When testing the outcomes of a result, preferably run the experiment simultaneously if possible. Time variations "
   ]
  },
  {
   "cell_type": "markdown",
   "metadata": {},
   "source": [
    "What can it be used for and what will it not cover. 'Features, changes to UI, speed of response from company'. Isn't good at testing out new experiences, don't want confounding variables (eg. new effect). \n",
    "\n",
    "Requirements: Need to randomly sample users. Need to be practical (eg. time, resources).\n",
    "\n",
    "Target: Consistent responses from groups, see if there's a significant behavior change. For tech A/B testing we have larger groups, but we don't know specifics about users in experiment. Want repeatable results. \n",
    "\n",
    "Things to watch out for: confounding effects (seasonality), biases (non-randomized sampling), testing for wrong question."
   ]
  },
  {
   "cell_type": "markdown",
   "metadata": {
    "collapsed": true
   },
   "source": [
    "Statistical vs Substantive Significance\n",
    "\n",
    "How much of a difference is it worth it to act based on that. Repeatability is key. "
   ]
  },
  {
   "cell_type": "markdown",
   "metadata": {},
   "source": [
    "Many companies use software that make it easier to run these experiments. They have indicators about when to finish experiment (once your p-value has surpassed threshold), but one needs to be careful about doing it correctly (eg. ending the experiment too early). http://blog.sumall.com/journal/optimizely-got-me-fired.html\n",
    "\n",
    "Don't be afraid to run an experiment more than twice, there's a good chance you'll have to even if you've standardized your conditions."
   ]
  },
  {
   "cell_type": "code",
   "execution_count": null,
   "metadata": {
    "collapsed": false
   },
   "outputs": [],
   "source": []
  },
  {
   "cell_type": "code",
   "execution_count": null,
   "metadata": {
    "collapsed": false
   },
   "outputs": [],
   "source": []
  },
  {
   "cell_type": "code",
   "execution_count": null,
   "metadata": {
    "collapsed": false
   },
   "outputs": [],
   "source": []
  },
  {
   "cell_type": "markdown",
   "metadata": {},
   "source": [
    "Categorical Data: Is it balanced? Will you have to use proportions?"
   ]
  },
  {
   "cell_type": "markdown",
   "metadata": {
    "collapsed": true
   },
   "source": [
    "\n",
    "\n",
    "Calculating the confidence intervals. If we know the means and stdev for our two samples, we can calculate where the boundaries for 95% of the true mean are by using our z-score table. First, look for 0.95 in the table, then find the tenths and then hundredths digits to get the z-score. This z-score essentially tells you how many standard deviations away the 95% boundary is. If we're outside that, then we can say the boundaries for the difference between the means of our two samples, then we can say that with ___% confidence, I can define where the 95% of the true sample mean is \n",
    "\n",
    "See khan academy explanation: https://www.youtube.com/watch?v=yQsCMnz9wO8"
   ]
  },
  {
   "cell_type": "code",
   "execution_count": 89,
   "metadata": {
    "collapsed": false
   },
   "outputs": [
    {
     "name": "stdout",
     "output_type": "stream",
     "text": [
      "116\n",
      "1\n",
      "116\n"
     ]
    }
   ],
   "source": [
    "print 233/2\n",
    "print 233%2\n",
    "print 233//2"
   ]
  },
  {
   "cell_type": "code",
   "execution_count": null,
   "metadata": {
    "collapsed": true
   },
   "outputs": [],
   "source": []
  }
 ],
 "metadata": {
  "anaconda-cloud": {},
  "kernelspec": {
   "display_name": "Python [conda root]",
   "language": "python",
   "name": "conda-root-py"
  },
  "language_info": {
   "codemirror_mode": {
    "name": "ipython",
    "version": 2
   },
   "file_extension": ".py",
   "mimetype": "text/x-python",
   "name": "python",
   "nbconvert_exporter": "python",
   "pygments_lexer": "ipython2",
   "version": "2.7.12"
  }
 },
 "nbformat": 4,
 "nbformat_minor": 0
}
