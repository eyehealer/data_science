{
 "cells": [
  {
   "cell_type": "markdown",
   "metadata": {},
   "source": [
    "# Data science with geolocation data\n",
    "\n",
    "<i>By Diego Ramallo</i>"
   ]
  },
  {
   "cell_type": "markdown",
   "metadata": {},
   "source": [
    "\n",
    "<img src=\"https://dl.dropboxusercontent.com/u/59776078/data_science/data_science/map-525349_1920.png\" alt=\"Drawing\" style=\"width: 350px;\"/>"
   ]
  },
  {
   "cell_type": "markdown",
   "metadata": {
    "collapsed": true
   },
   "source": [
    "Here I will play around with some geolocation data and see if I can visualize it, calculate travel times with it, and hopefully, test some ML on it.\n",
    "\n",
    "A good source for this type of data is the [SF OpenData](#https://data.sfgov.org/Transportation/NextMuni-vehicle-prediction-data/fam4-k899) repository which has a MUNI dataset. This can give me a good resource for mapping locations around San Francisco."
   ]
  },
  {
   "cell_type": "markdown",
   "metadata": {},
   "source": [
    "[Accessing Data](#Accessing Data)\n",
    "\n",
    "[Using the Google Maps API](#Using the Google Maps API)\n",
    "\n",
    "[Formatting Data](#Formatting Data)\n",
    "\n",
    "[Visualize Locations](#Visualize Locations)"
   ]
  },
  {
   "cell_type": "markdown",
   "metadata": {},
   "source": [
    "## Accessing Data\n",
    "\n",
    "<a id='Accessing Data'></a>"
   ]
  },
  {
   "cell_type": "code",
   "execution_count": 97,
   "metadata": {
    "collapsed": true
   },
   "outputs": [],
   "source": [
    "import numpy as np#Math library\n",
    "import pandas as pd#Table library\n",
    "import matplotlib.pyplot as plt#Plotting library\n",
    "import pandas as pd\n",
    "import warnings\n",
    "import seaborn as sns#Plotting library\n",
    "warnings.filterwarnings('ignore')#Gets rid of popup warnings\n",
    "%matplotlib nbagg"
   ]
  },
  {
   "cell_type": "code",
   "execution_count": 103,
   "metadata": {
    "collapsed": false
   },
   "outputs": [
    {
     "data": {
      "text/html": [
       "<div>\n",
       "<table border=\"1\" class=\"dataframe\">\n",
       "  <thead>\n",
       "    <tr style=\"text-align: right;\">\n",
       "      <th></th>\n",
       "      <th>stop_id</th>\n",
       "      <th>stop_lat</th>\n",
       "      <th>stop_lon</th>\n",
       "    </tr>\n",
       "  </thead>\n",
       "  <tbody>\n",
       "    <tr>\n",
       "      <th>354</th>\n",
       "      <td>3283</td>\n",
       "      <td>37.764579</td>\n",
       "      <td>-122.428523</td>\n",
       "    </tr>\n",
       "    <tr>\n",
       "      <th>3588</th>\n",
       "      <td>6601</td>\n",
       "      <td>37.789062</td>\n",
       "      <td>-122.410316</td>\n",
       "    </tr>\n",
       "    <tr>\n",
       "      <th>416</th>\n",
       "      <td>3346</td>\n",
       "      <td>37.762701</td>\n",
       "      <td>-122.395422</td>\n",
       "    </tr>\n",
       "    <tr>\n",
       "      <th>2694</th>\n",
       "      <td>5706</td>\n",
       "      <td>37.775710</td>\n",
       "      <td>-122.446360</td>\n",
       "    </tr>\n",
       "    <tr>\n",
       "      <th>3277</th>\n",
       "      <td>6290</td>\n",
       "      <td>37.794180</td>\n",
       "      <td>-122.400282</td>\n",
       "    </tr>\n",
       "  </tbody>\n",
       "</table>\n",
       "</div>"
      ],
      "text/plain": [
       "      stop_id   stop_lat    stop_lon\n",
       "354      3283  37.764579 -122.428523\n",
       "3588     6601  37.789062 -122.410316\n",
       "416      3346  37.762701 -122.395422\n",
       "2694     5706  37.775710 -122.446360\n",
       "3277     6290  37.794180 -122.400282"
      ]
     },
     "execution_count": 103,
     "metadata": {},
     "output_type": "execute_result"
    }
   ],
   "source": [
    "#Take subset of data to generate locations for drivers and riders using\n",
    "#the MUNI stop data file\n",
    "locData= pd.read_table('google_transit/stops.txt', delimiter= ',')\n",
    "\n",
    "riders= locData[['stop_id','stop_lat','stop_lon']].sample(n= 100, random_state= 42)\n",
    "drivers= locData[['stop_id','stop_lat','stop_lon']].sample(n= 20, random_state= 24)\n",
    "riders.head(5)"
   ]
  },
  {
   "cell_type": "markdown",
   "metadata": {},
   "source": [
    "## Using the Google Maps API\n",
    "\n",
    "<a id='Using the Google Maps API'></a>"
   ]
  },
  {
   "cell_type": "markdown",
   "metadata": {},
   "source": [
    "It's really nice that Google allows you to use Google Maps API library to visualize objects, but it does require [generating an API key](https://developers.google.com/maps/get-started/) and enabling the specific API's that you'll use (at a minimum the JavaScript API).\n",
    "\n",
    "Finally, to enable the maps widget in a Jupyter notebook, I'll need to install the gmaps library. Here are the [installation instructions](#http://jupyter-gmaps.readthedocs.io/en/latest/)."
   ]
  },
  {
   "cell_type": "code",
   "execution_count": 104,
   "metadata": {
    "collapsed": false
   },
   "outputs": [],
   "source": [
    "#Import gmaps for embedding google maps in a jupyter notebook and summon API key\n",
    "import os\n",
    "import gmaps\n",
    "\n",
    "#The gmaps installation instructions mentioned that your API key\n",
    "#should not be shared so I instead listed it in my .bash_profile\n",
    "#document and am calling it from here\n",
    "gmaps.configure(api_key=os.environ['GOOGLE_API_KEY'])"
   ]
  },
  {
   "cell_type": "markdown",
   "metadata": {},
   "source": [
    "## Formatting Data\n",
    "\n",
    "<a id='Formatting Data'></a>\n",
    "\n",
    "In order to relay the information to gmaps, we'll need to reformat the data in our pandas dataframes to a list of lat/long tuples to be able to read the coordinates."
   ]
  },
  {
   "cell_type": "code",
   "execution_count": 105,
   "metadata": {
    "collapsed": false
   },
   "outputs": [
    {
     "data": {
      "text/plain": [
       "[(37.764578999999998, -122.428523),\n",
       " (37.789062000000001, -122.41031599999999),\n",
       " (37.762701, -122.395422),\n",
       " (37.775709999999997, -122.44636000000001),\n",
       " (37.794179999999997, -122.400282)]"
      ]
     },
     "execution_count": 105,
     "metadata": {},
     "output_type": "execute_result"
    }
   ],
   "source": [
    "#Format driver lat/long to list of tuples to use them\n",
    "#with the gmaps library\n",
    "driverData = drivers[['stop_lat','stop_lon']]\n",
    "driverData= [tuple(i) for i in driverData.values]\n",
    "driverData[0:5]\n",
    "\n",
    "#Same for riders\n",
    "riderData = riders[['stop_lat','stop_lon']]\n",
    "riderData= [tuple(i) for i in riderData.values]\n",
    "riderData[0:5]"
   ]
  },
  {
   "cell_type": "markdown",
   "metadata": {},
   "source": [
    "## Visualize Locations\n",
    "\n",
    "<a id='Visualize Locations'></a>"
   ]
  },
  {
   "cell_type": "code",
   "execution_count": 110,
   "metadata": {
    "collapsed": false
   },
   "outputs": [],
   "source": [
    "#Define plot layers for drivers and riders\n",
    "#Make driver markers green and rider markers red\n",
    "driverLayer = gmaps.symbol_layer(\n",
    "    driverData, fill_color=\"green\", stroke_color=\"green\", scale=2)\n",
    "\n",
    "riderLayer= gmaps.symbol_layer(\n",
    "    riderData, fill_color=\"red\", stroke_color=\"red\", scale=2)"
   ]
  },
  {
   "cell_type": "code",
   "execution_count": 112,
   "metadata": {
    "collapsed": false
   },
   "outputs": [],
   "source": [
    "#Initialize map object to plot points \n",
    "sfMap= gmaps.Map()\n",
    "\n",
    "#Apply layers to map\n",
    "sfMap.add_layer(driverLayer)\n",
    "sfMap.add_layer(riderLayer)\n",
    "\n",
    "#Could also generate heatmap with line below\n",
    "#heatmap_layer = gmaps.Heatmap(data=driverData)\n",
    "\n",
    "#Show map\n",
    "sfMap"
   ]
  },
  {
   "cell_type": "markdown",
   "metadata": {
    "collapsed": true
   },
   "source": [
    "Sweet it worked! :) It doesn't look like it shows up on Github but it's there!"
   ]
  },
  {
   "cell_type": "markdown",
   "metadata": {
    "collapsed": true
   },
   "source": [
    "\n"
   ]
  },
  {
   "cell_type": "markdown",
   "metadata": {},
   "source": [
    "## Segmenting Riders into Clusters\n",
    "\n",
    "Now that I know where the riders are and where the drivers are, I'll try to segment them to optimize their locations. \n",
    "\n",
    "To begin with, I will assume that I have 20 clusters since I have 20 drivers and use K-Means as a first pass segmentation tool. This will cluster riders based on their distance to the drivers."
   ]
  },
  {
   "cell_type": "code",
   "execution_count": 115,
   "metadata": {
    "collapsed": false
   },
   "outputs": [
    {
     "data": {
      "text/plain": [
       "20"
      ]
     },
     "execution_count": 115,
     "metadata": {},
     "output_type": "execute_result"
    }
   ],
   "source": [
    "len(driverData)"
   ]
  },
  {
   "cell_type": "code",
   "execution_count": null,
   "metadata": {
    "collapsed": false
   },
   "outputs": [],
   "source": []
  },
  {
   "cell_type": "code",
   "execution_count": null,
   "metadata": {
    "collapsed": true
   },
   "outputs": [],
   "source": []
  }
 ],
 "metadata": {
  "anaconda-cloud": {},
  "kernelspec": {
   "display_name": "Python [conda root]",
   "language": "python",
   "name": "conda-root-py"
  },
  "language_info": {
   "codemirror_mode": {
    "name": "ipython",
    "version": 2
   },
   "file_extension": ".py",
   "mimetype": "text/x-python",
   "name": "python",
   "nbconvert_exporter": "python",
   "pygments_lexer": "ipython2",
   "version": "2.7.12"
  },
  "widgets": {
   "state": {
    "68741f57a9c74185821ac3d7ebd60426": {
     "views": [
      {
       "cell_index": 14
      }
     ]
    }
   },
   "version": "1.2.0"
  }
 },
 "nbformat": 4,
 "nbformat_minor": 1
}
