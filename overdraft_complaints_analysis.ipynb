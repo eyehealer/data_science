{
 "cells": [
  {
   "cell_type": "markdown",
   "metadata": {},
   "source": [
    "# Notebook Title"
   ]
  },
  {
   "cell_type": "code",
   "execution_count": null,
   "metadata": {
    "collapsed": true
   },
   "outputs": [],
   "source": []
  },
  {
   "cell_type": "markdown",
   "metadata": {},
   "source": [
    "[Feature Engineering](#Feature Engineering)\n",
    "\n",
    "[Visualizing data](#Visualizing Data)\n",
    "\n",
    "[Splitting Data](#Splitting Data)\n",
    "\n",
    "[Modeling Data](#Modeling Data)\n",
    "\n",
    "[Model Validation](#Model Validation)"
   ]
  },
  {
   "cell_type": "markdown",
   "metadata": {},
   "source": [
    "## Feature Engineering\n",
    "\n",
    "<a id='Feature Engineering'></a>"
   ]
  },
  {
   "cell_type": "code",
   "execution_count": 1,
   "metadata": {
    "collapsed": true
   },
   "outputs": [],
   "source": [
    "import numpy as np#Math library\n",
    "import pandas as pd#Table library\n",
    "import matplotlib.pyplot as plt#Plotting library\n",
    "import pandas as pd\n",
    "import warnings\n",
    "import seaborn as sns#Plotting library\n",
    "warnings.filterwarnings('ignore')#Gets rid of popup warnings\n",
    "%matplotlib nbagg"
   ]
  },
  {
   "cell_type": "code",
   "execution_count": 19,
   "metadata": {
    "collapsed": false,
    "scrolled": true
   },
   "outputs": [
    {
     "data": {
      "text/html": [
       "<div>\n",
       "<table border=\"1\" class=\"dataframe\">\n",
       "  <thead>\n",
       "    <tr style=\"text-align: right;\">\n",
       "      <th></th>\n",
       "      <th>Date received</th>\n",
       "      <th>Product</th>\n",
       "      <th>Sub-product</th>\n",
       "      <th>Issue</th>\n",
       "      <th>Sub-issue</th>\n",
       "      <th>Consumer complaint narrative</th>\n",
       "      <th>Company public response</th>\n",
       "      <th>Company</th>\n",
       "      <th>State</th>\n",
       "      <th>ZIP code</th>\n",
       "      <th>Tags</th>\n",
       "      <th>Consumer consent provided?</th>\n",
       "      <th>Submitted via</th>\n",
       "      <th>Date sent to company</th>\n",
       "      <th>Company response to consumer</th>\n",
       "      <th>Timely response?</th>\n",
       "      <th>Consumer disputed?</th>\n",
       "      <th>Complaint ID</th>\n",
       "    </tr>\n",
       "  </thead>\n",
       "  <tbody>\n",
       "    <tr>\n",
       "      <th>0</th>\n",
       "      <td>11/24/2014</td>\n",
       "      <td>Prepaid card</td>\n",
       "      <td>Other special purpose card</td>\n",
       "      <td>Overdraft, savings or rewards features</td>\n",
       "      <td>NaN</td>\n",
       "      <td>NaN</td>\n",
       "      <td>NaN</td>\n",
       "      <td>Citibank</td>\n",
       "      <td>FL</td>\n",
       "      <td>33612</td>\n",
       "      <td>NaN</td>\n",
       "      <td>NaN</td>\n",
       "      <td>Phone</td>\n",
       "      <td>12/01/2014</td>\n",
       "      <td>Closed with monetary relief</td>\n",
       "      <td>Yes</td>\n",
       "      <td>Yes</td>\n",
       "      <td>1129509</td>\n",
       "    </tr>\n",
       "    <tr>\n",
       "      <th>1</th>\n",
       "      <td>11/25/2014</td>\n",
       "      <td>Prepaid card</td>\n",
       "      <td>General purpose card</td>\n",
       "      <td>Overdraft, savings or rewards features</td>\n",
       "      <td>NaN</td>\n",
       "      <td>NaN</td>\n",
       "      <td>NaN</td>\n",
       "      <td>NetSpend Corporation,  a TSYS Company</td>\n",
       "      <td>CA</td>\n",
       "      <td>90018</td>\n",
       "      <td>Older American</td>\n",
       "      <td>NaN</td>\n",
       "      <td>Web</td>\n",
       "      <td>12/03/2014</td>\n",
       "      <td>Closed with explanation</td>\n",
       "      <td>Yes</td>\n",
       "      <td>No</td>\n",
       "      <td>1131773</td>\n",
       "    </tr>\n",
       "    <tr>\n",
       "      <th>2</th>\n",
       "      <td>03/24/2015</td>\n",
       "      <td>Payday loan</td>\n",
       "      <td>Payday loan</td>\n",
       "      <td>Can't stop charges to bank account</td>\n",
       "      <td>Can't stop charges to bank account</td>\n",
       "      <td>I took out a Loan from Cash Central XXXX, Al f...</td>\n",
       "      <td>Company chooses not to provide a public response</td>\n",
       "      <td>Community Choice Financial, Inc.</td>\n",
       "      <td>AL</td>\n",
       "      <td>351XX</td>\n",
       "      <td>Older American</td>\n",
       "      <td>Consent provided</td>\n",
       "      <td>Web</td>\n",
       "      <td>03/24/2015</td>\n",
       "      <td>Closed with explanation</td>\n",
       "      <td>Yes</td>\n",
       "      <td>No</td>\n",
       "      <td>1299258</td>\n",
       "    </tr>\n",
       "  </tbody>\n",
       "</table>\n",
       "</div>"
      ],
      "text/plain": [
       "  Date received       Product                 Sub-product  \\\n",
       "0    11/24/2014  Prepaid card  Other special purpose card   \n",
       "1    11/25/2014  Prepaid card        General purpose card   \n",
       "2    03/24/2015   Payday loan                 Payday loan   \n",
       "\n",
       "                                    Issue                           Sub-issue  \\\n",
       "0  Overdraft, savings or rewards features                                 NaN   \n",
       "1  Overdraft, savings or rewards features                                 NaN   \n",
       "2      Can't stop charges to bank account  Can't stop charges to bank account   \n",
       "\n",
       "                        Consumer complaint narrative  \\\n",
       "0                                                NaN   \n",
       "1                                                NaN   \n",
       "2  I took out a Loan from Cash Central XXXX, Al f...   \n",
       "\n",
       "                            Company public response  \\\n",
       "0                                               NaN   \n",
       "1                                               NaN   \n",
       "2  Company chooses not to provide a public response   \n",
       "\n",
       "                                 Company State ZIP code            Tags  \\\n",
       "0                               Citibank    FL    33612             NaN   \n",
       "1  NetSpend Corporation,  a TSYS Company    CA    90018  Older American   \n",
       "2       Community Choice Financial, Inc.    AL    351XX  Older American   \n",
       "\n",
       "  Consumer consent provided? Submitted via Date sent to company  \\\n",
       "0                        NaN         Phone           12/01/2014   \n",
       "1                        NaN           Web           12/03/2014   \n",
       "2           Consent provided           Web           03/24/2015   \n",
       "\n",
       "  Company response to consumer Timely response? Consumer disputed?  \\\n",
       "0  Closed with monetary relief              Yes                Yes   \n",
       "1      Closed with explanation              Yes                 No   \n",
       "2      Closed with explanation              Yes                 No   \n",
       "\n",
       "   Complaint ID  \n",
       "0       1129509  \n",
       "1       1131773  \n",
       "2       1299258  "
      ]
     },
     "execution_count": 19,
     "metadata": {},
     "output_type": "execute_result"
    }
   ],
   "source": [
    "data= pd.read_csv('Consumer_Complaints_Search_Overdraft.csv')\n",
    "data.head(3)"
   ]
  },
  {
   "cell_type": "code",
   "execution_count": 21,
   "metadata": {
    "collapsed": false
   },
   "outputs": [
    {
     "data": {
      "text/plain": [
       "(2190, 18)"
      ]
     },
     "execution_count": 21,
     "metadata": {},
     "output_type": "execute_result"
    }
   ],
   "source": [
    "data.shape"
   ]
  },
  {
   "cell_type": "markdown",
   "metadata": {},
   "source": [
    "Since 'Consumer complaint narrative' is really and can be expected to sway banks' responses, let's make a new feature that counts the number of words as a feature. Let's also group states by a  [region](http://www.census.gov/econ/census/help/geography/regions_and_divisions.html \"link\") of the country to limit the number of features we hot-encode."
   ]
  },
  {
   "cell_type": "code",
   "execution_count": 85,
   "metadata": {
    "collapsed": false
   },
   "outputs": [],
   "source": [
    "data['consumer_narr_word_len'] = data['Consumer complaint narrative'].map(lambda x: len((str(x)).split()))"
   ]
  },
  {
   "cell_type": "code",
   "execution_count": 98,
   "metadata": {
    "collapsed": false
   },
   "outputs": [],
   "source": [
    "#Define regions\n",
    "northeast = ['CT', 'ME', 'MA', 'NH', 'RI', 'VT', 'NJ', 'NY','PA'] \n",
    "midwest = ['IL', 'IN', 'MI', 'OH', 'WI','IA', 'KS', 'MN', 'MO', \n",
    "           'NE', 'ND', 'SD']\n",
    "south = ['DE', 'DC', 'FL', 'GA', 'MD', 'NC', 'SC', 'VA', 'WV', 'AL', \n",
    "         'KY', 'MS', 'TN', 'AR', 'LA', 'OK','TX']\n",
    "west = ['AZ', 'CO', 'ID', 'MT', 'NV', 'NM', 'UT', 'WY', 'AK', 'CA', \n",
    "        'HI', 'OR', 'WA']\n",
    "\n",
    "#Initialize state and region lists\n",
    "state= data['State'].values\n",
    "region= []\n",
    "\n",
    "#Assign regions to state\n",
    "for i in state:\n",
    "    if i in northeast: region.append('northeast')\n",
    "    elif i in midwest: region.append('midwest')\n",
    "    elif i in south: region.append('south')\n",
    "    elif i in west: region.append('west')\n",
    "    else: region.append(None)\n",
    "\n",
    "#Make region new column in dataframe\n",
    "data['region']= region"
   ]
  },
  {
   "cell_type": "code",
   "execution_count": 99,
   "metadata": {
    "collapsed": false
   },
   "outputs": [
    {
     "data": {
      "text/plain": [
       "array(['south', 'west', 'northeast', 'midwest', None], dtype=object)"
      ]
     },
     "execution_count": 99,
     "metadata": {},
     "output_type": "execute_result"
    }
   ],
   "source": [
    "data['region'].unique()"
   ]
  },
  {
   "cell_type": "markdown",
   "metadata": {},
   "source": [
    "Now that we have these, let's see what columns we'll keep in our analysis, which columns we'll turn into dummy variables and which columns will just be dropped out altogether."
   ]
  },
  {
   "cell_type": "code",
   "execution_count": 100,
   "metadata": {
    "collapsed": false
   },
   "outputs": [],
   "source": [
    "names= list(data.columns)"
   ]
  },
  {
   "cell_type": "code",
   "execution_count": 102,
   "metadata": {
    "collapsed": false
   },
   "outputs": [
    {
     "name": "stdout",
     "output_type": "stream",
     "text": [
      "Date received :  549\n",
      "Product :  11\n",
      "Sub-product :  36\n",
      "Issue :  65\n",
      "Sub-issue :  36\n",
      "Consumer complaint narrative :  2158\n",
      "Company public response :  10\n",
      "Company :  172\n",
      "State :  54\n",
      "ZIP code :  550\n",
      "Tags :  4\n",
      "Consumer consent provided? :  3\n",
      "Submitted via :  3\n",
      "Date sent to company :  541\n",
      "Company response to consumer :  5\n",
      "Timely response? :  2\n",
      "Consumer disputed? :  3\n",
      "Complaint ID :  2190\n",
      "consumer_narr_word_len :  642\n",
      "region :  5\n"
     ]
    }
   ],
   "source": [
    "#Counts unique entries for each column\n",
    "for i in range(0,len(names)):\n",
    "    print names[i], ': ', len(data[names[i]].unique())"
   ]
  },
  {
   "cell_type": "markdown",
   "metadata": {},
   "source": [
    "We determined that 'Consumer Narr' was too long and summarized it with a word count so we can eliminate it now. We'll also delete the dates cause they can be summarized by 'Timely response', and 'State' and 'Zip code' cause we now have region information. 'Sub-issue' only appears for a fraction of our data so we'll remove it too. For the remaining columns, we'll keep them if they're continuous or one-hot encode their responses as additional columns (expect ~200).\n",
    "\n",
    "colums to eliminate: Date received, Sub-issue, Consumer complaint narrative, State,\n",
    "    Zip code, Date sent to company, Compaind ID"
   ]
  },
  {
   "cell_type": "code",
   "execution_count": 66,
   "metadata": {
    "collapsed": false
   },
   "outputs": [],
   "source": [
    "#data.head(20)"
   ]
  },
  {
   "cell_type": "markdown",
   "metadata": {},
   "source": [
    "## Formatting Data\n",
    "\n",
    "<a id='Formatting Data'></a>"
   ]
  },
  {
   "cell_type": "code",
   "execution_count": 47,
   "metadata": {
    "collapsed": true
   },
   "outputs": [],
   "source": [
    "cleanData= data.copy()"
   ]
  },
  {
   "cell_type": "code",
   "execution_count": 48,
   "metadata": {
    "collapsed": false
   },
   "outputs": [
    {
     "data": {
      "text/plain": [
       "Date received                   object\n",
       "Product                         object\n",
       "Sub-product                     object\n",
       "Issue                           object\n",
       "Sub-issue                       object\n",
       "Consumer complaint narrative    object\n",
       "Company public response         object\n",
       "Company                         object\n",
       "State                           object\n",
       "ZIP code                        object\n",
       "Tags                            object\n",
       "Consumer consent provided?      object\n",
       "Submitted via                   object\n",
       "Date sent to company            object\n",
       "Company response to consumer    object\n",
       "Timely response?                object\n",
       "Consumer disputed?              object\n",
       "Complaint ID                     int64\n",
       "dtype: object"
      ]
     },
     "execution_count": 48,
     "metadata": {},
     "output_type": "execute_result"
    }
   ],
   "source": [
    "cleanData.dtypes"
   ]
  },
  {
   "cell_type": "markdown",
   "metadata": {},
   "source": [
    "## Formatting Data\n",
    "\n",
    "<a id='Formatting Data'></a>"
   ]
  },
  {
   "cell_type": "markdown",
   "metadata": {},
   "source": [
    "## Formatting Data\n",
    "\n",
    "<a id='Formatting Data'></a>"
   ]
  },
  {
   "cell_type": "markdown",
   "metadata": {},
   "source": [
    "## Formatting Data\n",
    "\n",
    "<a id='Formatting Data'></a>"
   ]
  },
  {
   "cell_type": "code",
   "execution_count": 70,
   "metadata": {
    "collapsed": true
   },
   "outputs": [],
   "source": [
    "text= 'diego'"
   ]
  },
  {
   "cell_type": "code",
   "execution_count": 71,
   "metadata": {
    "collapsed": false
   },
   "outputs": [
    {
     "data": {
      "text/plain": [
       "False"
      ]
     },
     "execution_count": 71,
     "metadata": {},
     "output_type": "execute_result"
    }
   ],
   "source": [
    "text== str"
   ]
  },
  {
   "cell_type": "code",
   "execution_count": null,
   "metadata": {
    "collapsed": true
   },
   "outputs": [],
   "source": []
  }
 ],
 "metadata": {
  "anaconda-cloud": {},
  "kernelspec": {
   "display_name": "Python [conda root]",
   "language": "python",
   "name": "conda-root-py"
  },
  "language_info": {
   "codemirror_mode": {
    "name": "ipython",
    "version": 2
   },
   "file_extension": ".py",
   "mimetype": "text/x-python",
   "name": "python",
   "nbconvert_exporter": "python",
   "pygments_lexer": "ipython2",
   "version": "2.7.12"
  }
 },
 "nbformat": 4,
 "nbformat_minor": 1
}
